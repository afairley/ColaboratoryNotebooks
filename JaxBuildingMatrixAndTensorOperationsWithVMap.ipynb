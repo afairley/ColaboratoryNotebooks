{
  "nbformat": 4,
  "nbformat_minor": 0,
  "metadata": {
    "colab": {
      "provenance": [],
      "authorship_tag": "ABX9TyNR5zhrdEZArA6vteoWr5ZD",
      "include_colab_link": true
    },
    "kernelspec": {
      "name": "python3",
      "display_name": "Python 3"
    },
    "language_info": {
      "name": "python"
    }
  },
  "cells": [
    {
      "cell_type": "markdown",
      "metadata": {
        "id": "view-in-github",
        "colab_type": "text"
      },
      "source": [
        "<a href=\"https://colab.research.google.com/github/afairley/ColaboratoryNotebooks/blob/main/JaxBuildingMatrixAndTensorOperationsWithVMap.ipynb\" target=\"_parent\"><img src=\"https://colab.research.google.com/assets/colab-badge.svg\" alt=\"Open In Colab\"/></a>"
      ]
    },
    {
      "cell_type": "code",
      "source": [
        "import jax\n",
        "jax.print_environment_info(return_string=False)"
      ],
      "metadata": {
        "colab": {
          "base_uri": "https://localhost:8080/"
        },
        "id": "thtE4p77umZ8",
        "outputId": "89731ccb-4531-4c94-ca81-4adf6e4e0598"
      },
      "execution_count": 1,
      "outputs": [
        {
          "output_type": "stream",
          "name": "stdout",
          "text": [
            "jax:    0.4.23\n",
            "jaxlib: 0.4.23\n",
            "numpy:  1.25.2\n",
            "python: 3.10.12 (main, Nov 20 2023, 15:14:05) [GCC 11.4.0]\n",
            "jax.devices (1 total, 1 local): [CpuDevice(id=0)]\n",
            "process_count: 1\n"
          ]
        }
      ]
    },
    {
      "cell_type": "code",
      "source": [
        "import jax.numpy as jnp\n",
        "from jax import vmap\n",
        "\n",
        "vv = lambda x, y: jnp.vdot(x, y)  #  ([a], [a]) -> []\n",
        "mv = vmap(vv, (0, None), 0)      #  ([b,a], [a]) -> [b]      (b is the mapped axis)\n",
        "mm = vmap(mv, (None, 1), 1)      #  ([b,a], [a,c]) -> [b,c]  (c is the mapped axis)\n",
        "mv1 = vmap(vv, (0, 0), 0)   #  ([b,a], [b,a]) -> [b]        (b is the mapped axis)\n",
        "mv2 = vmap(vv, (0, 1), 0)   #  ([b,a], [a,b]) -> [b]        (b is the mapped axis)\n",
        "mm2 = vmap(mv2, (1, 1), 0)  #  ([b,c,a], [a,c,b]) -> [c,b]  (c is the mapped axis)"
      ],
      "metadata": {
        "id": "GsJh1Lg4u7ms"
      },
      "execution_count": 2,
      "outputs": []
    },
    {
      "cell_type": "code",
      "source": [
        "identityMatrix = ((1,0),\n",
        "                  (0,1))\n",
        "#expansionMatrix = map( lambda x: map( lambda y: y *2, x) *2 , identityMatrix)\n",
        "#You can no longer do the above."
      ],
      "metadata": {
        "colab": {
          "base_uri": "https://localhost:8080/",
          "height": 193
        },
        "id": "pQLBlDDVv3Kj",
        "outputId": "9dca2bd2-06b6-4b45-b642-622d62c6e2ad"
      },
      "execution_count": 6,
      "outputs": [
        {
          "output_type": "error",
          "ename": "TypeError",
          "evalue": "'map' object is not callable",
          "traceback": [
            "\u001b[0;31m---------------------------------------------------------------------------\u001b[0m",
            "\u001b[0;31mTypeError\u001b[0m                                 Traceback (most recent call last)",
            "\u001b[0;32m<ipython-input-6-c2db2bf40637>\u001b[0m in \u001b[0;36m<cell line: 3>\u001b[0;34m()\u001b[0m\n\u001b[1;32m      1\u001b[0m identityMatrix = ((1,0),\n\u001b[1;32m      2\u001b[0m                   (0,1))\n\u001b[0;32m----> 3\u001b[0;31m \u001b[0mexpansionMatrix\u001b[0m \u001b[0;34m=\u001b[0m \u001b[0mmap\u001b[0m\u001b[0;34m(\u001b[0m \u001b[0;32mlambda\u001b[0m \u001b[0mx\u001b[0m\u001b[0;34m:\u001b[0m \u001b[0mmap\u001b[0m\u001b[0;34m(\u001b[0m \u001b[0;32mlambda\u001b[0m \u001b[0my\u001b[0m\u001b[0;34m:\u001b[0m \u001b[0my\u001b[0m \u001b[0;34m*\u001b[0m\u001b[0;36m2\u001b[0m\u001b[0;34m,\u001b[0m \u001b[0mx\u001b[0m\u001b[0;34m)\u001b[0m \u001b[0;34m*\u001b[0m\u001b[0;36m2\u001b[0m \u001b[0;34m,\u001b[0m \u001b[0midentityMatrix\u001b[0m\u001b[0;34m)\u001b[0m\u001b[0;34m(\u001b[0m\u001b[0;34m)\u001b[0m\u001b[0;34m\u001b[0m\u001b[0;34m\u001b[0m\u001b[0m\n\u001b[0m\u001b[1;32m      4\u001b[0m \u001b[0mexpansionMatrix\u001b[0m\u001b[0;34m\u001b[0m\u001b[0;34m\u001b[0m\u001b[0m\n",
            "\u001b[0;31mTypeError\u001b[0m: 'map' object is not callable"
          ]
        }
      ]
    },
    {
      "cell_type": "code",
      "execution_count": null,
      "metadata": {
        "id": "Xr2dUi8ktplY"
      },
      "outputs": [],
      "source": [
        "#Doing this isn't actually needed as colab instances\n",
        "#come with jax installed\n",
        "projects = [\n",
        "    (\"jax\",\"https://github.com/google/jax\")]\n",
        "JAX_DIR = f\"/content/{projects[0][0]}\"\n",
        "for project, repo in projects:\n",
        "  !rm -rf ./{project}\n",
        "  !git clone {repo}"
      ]
    },
    {
      "cell_type": "code",
      "source": [
        "#Doing this isn't actually needed as colab instances\n",
        "#come with jax installed\n",
        "!pip install jaxlib\n",
        "!cd {JAX_DIR} && pip install -e .\n"
      ],
      "metadata": {
        "id": "5EItG6dNt449"
      },
      "execution_count": null,
      "outputs": []
    }
  ]
}