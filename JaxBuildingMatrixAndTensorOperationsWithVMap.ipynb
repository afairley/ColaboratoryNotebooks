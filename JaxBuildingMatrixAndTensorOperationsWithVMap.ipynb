{
  "nbformat": 4,
  "nbformat_minor": 0,
  "metadata": {
    "colab": {
      "provenance": [],
      "include_colab_link": true
    },
    "kernelspec": {
      "name": "python3",
      "display_name": "Python 3"
    },
    "language_info": {
      "name": "python"
    }
  },
  "cells": [
    {
      "cell_type": "markdown",
      "metadata": {
        "id": "view-in-github",
        "colab_type": "text"
      },
      "source": [
        "<a href=\"https://colab.research.google.com/github/afairley/ColaboratoryNotebooks/blob/main/JaxBuildingMatrixAndTensorOperationsWithVMap.ipynb\" target=\"_parent\"><img src=\"https://colab.research.google.com/assets/colab-badge.svg\" alt=\"Open In Colab\"/></a>"
      ]
    },
    {
      "cell_type": "code",
      "source": [
        "import jax\n",
        "jax.print_environment_info(return_string=False)"
      ],
      "metadata": {
        "colab": {
          "base_uri": "https://localhost:8080/"
        },
        "id": "thtE4p77umZ8",
        "outputId": "203d0dd8-f440-4c71-84e1-97a863b84b56"
      },
      "execution_count": 1,
      "outputs": [
        {
          "output_type": "stream",
          "name": "stdout",
          "text": [
            "jax:    0.4.23\n",
            "jaxlib: 0.4.23\n",
            "numpy:  1.25.2\n",
            "python: 3.10.12 (main, Nov 20 2023, 15:14:05) [GCC 11.4.0]\n",
            "jax.devices (1 total, 1 local): [CpuDevice(id=0)]\n",
            "process_count: 1\n"
          ]
        }
      ]
    },
    {
      "cell_type": "code",
      "source": [
        "import jax.numpy as jnp\n",
        "import jax.tree_util as tree_util\n",
        "from jax import vmap\n",
        "\n",
        "\n",
        "vv = lambda x, y: jnp.vdot(x, y)  #  ([a], [a]) -> []\n",
        "mv = vmap(vv, (0, None), 0)      #  ([b,a], [a]) -> [b]      (b is the mapped axis)\n",
        "mm = vmap(mv, (None, 1), 1)      #  ([b,a], [a,c]) -> [b,c]  (c is the mapped axis)\n",
        "mv1 = vmap(vv, (0, 0), 0)   #  ([b,a], [b,a]) -> [b]        (b is the mapped axis)\n",
        "mv2 = vmap(vv, (0, 1), 0)   #  ([b,a], [a,b]) -> [b]        (b is the mapped axis)\n",
        "mm2 = vmap(mv2, (1, 1), 0)  #  ([b,c,a], [a,c,b]) -> [c,b]  (c is the mapped axis)"
      ],
      "metadata": {
        "id": "GsJh1Lg4u7ms"
      },
      "execution_count": 2,
      "outputs": []
    },
    {
      "cell_type": "code",
      "source": [
        "identityMatrix = jnp.array(((1,0,0),\n",
        "                  (0,1,0),\n",
        "                  (0,0,1)))\n",
        "permuteABMatrix = jnp.array(((0,1,0),\n",
        "                  (1,0,0),\n",
        "                  (0,0,1)))\n",
        "permuteBCMatrix = jnp.array(((1,0,0),\n",
        "                  (0,0,1),\n",
        "                  (0,1,0)))\n",
        "oneRowVector = jnp.array((1,1,1))\n",
        "oneColumnVector = jnp.array(((1),\n",
        "                             (1),\n",
        "                             (1)))\n",
        "columnMatrix = jnp.array(((1,0,0),\n",
        "                  (2,0,0),\n",
        "                  (3,0,0)))\n",
        "rowMatrix = jnp.array(((1,4,9),\n",
        "                  (0,0,0),\n",
        "                  (0,0,0)))\n",
        "columnMatrix2 = jnp.array(((0,0,1),\n",
        "                  (0,0,2),\n",
        "                  (0,0,3)))\n",
        "rowMatrix2 = jnp.array(((0,0,0),\n",
        "                  (0,0,0),\n",
        "                  (1,4,9)))\n",
        "\n",
        "#expansionMatrix = map( lambda x: map( lambda y: y *2, x) *2 , identityMatrix)\n",
        "#You can no longer do the above.\n",
        "def right_multiply_matrix_by_scalar(matrix, scalar):\n",
        "  return tree_util.tree_map(lambda x : x * scalar, matrix)\n",
        "expansionMatrix = right_multiply_matrix_by_scalar(identityMatrix, 2)\n",
        "reductionMatrix = right_multiply_matrix_by_scalar(identityMatrix, 0.5)\n",
        "\n"
      ],
      "metadata": {
        "id": "pQLBlDDVv3Kj"
      },
      "execution_count": 9,
      "outputs": []
    },
    {
      "cell_type": "code",
      "source": [
        "\n",
        "print(\"Identity Matrix I:\\n\" , identityMatrix)\n",
        "print(\"Permutation Matrix P_AB:\\n\" , permuteABMatrix)\n",
        "print(\"Permutation Matrix P_BC:\\n\" , permuteBCMatrix)\n",
        "print(\"RowVector v1:\\n\" , oneRowVector)\n",
        "print(\"Column Vector vT1:\\n\" , oneColumnVector)\n",
        "print(\"Expansion Matrix E:\\n\" , expansionMatrix)\n",
        "print(\"Reduction Matrix R:\\n\" , reductionMatrix)\n",
        "print(\"Column Matrix C:\\n\" , columnMatrix)\n",
        "print(\"Row Matrix R:\\n\" , rowMatrix)\n",
        "print(\"Column Matrix C2:\\n\" , columnMatrix2)\n",
        "print(\"Row Matrix R2:\\n\" , rowMatrix2)\n",
        "\n",
        "\n"
      ],
      "metadata": {
        "id": "UP6Xv5Vs3nYq",
        "outputId": "36d1a425-a12b-4dc2-cf82-47d128fe62dc",
        "colab": {
          "base_uri": "https://localhost:8080/"
        }
      },
      "execution_count": 10,
      "outputs": [
        {
          "output_type": "stream",
          "name": "stdout",
          "text": [
            "Identity Matrix I:\n",
            " [[1 0 0]\n",
            " [0 1 0]\n",
            " [0 0 1]]\n",
            "Permutation Matrix P_AB:\n",
            " [[0 1 0]\n",
            " [1 0 0]\n",
            " [0 0 1]]\n",
            "Permutation Matrix P_BC:\n",
            " [[1 0 0]\n",
            " [0 0 1]\n",
            " [0 1 0]]\n",
            "RowVector v1:\n",
            " [1 1 1]\n",
            "Column Vector vT1:\n",
            " [1 1 1]\n",
            "Expansion Matrix E:\n",
            " [[2 0 0]\n",
            " [0 2 0]\n",
            " [0 0 2]]\n",
            "Reduction Matrix R:\n",
            " [[0.5 0.  0. ]\n",
            " [0.  0.5 0. ]\n",
            " [0.  0.  0.5]]\n",
            "Column Matrix C:\n",
            " [[1 0 0]\n",
            " [2 0 0]\n",
            " [3 0 0]]\n",
            "Row Matrix R:\n",
            " [[1 4 9]\n",
            " [0 0 0]\n",
            " [0 0 0]]\n",
            "Column Matrix C2:\n",
            " [[0 0 1]\n",
            " [0 0 2]\n",
            " [0 0 3]]\n",
            "Row Matrix R2:\n",
            " [[0 0 0]\n",
            " [0 0 0]\n",
            " [1 4 9]]\n"
          ]
        }
      ]
    },
    {
      "cell_type": "code",
      "source": [
        "#It would appear that while tree_map is perfectly happy to map over tuple trees\n",
        "#vmap does not handle them unless they are upgraded to jnp.array\n",
        "#mm(expansionMatrix,reductionMatrix) #appears to throw a shape error\n",
        "print(\"mm product E * R:\\n\",\n",
        "    mm(expansionMatrix,reductionMatrix))\n",
        "print(\"mm product C * R:\\n\",\n",
        "    mm(columnMatrix,rowMatrix))\n",
        "print(\"mm product R * C:\\n\",\n",
        "    mm(rowMatrix,columnMatrix))\n",
        "print(\"mm product C2 * R2:\\n\",\n",
        "    mm(columnMatrix2,rowMatrix2))\n",
        "print(\"mm product R2 * C2:\\n\",\n",
        "    mm(rowMatrix2,columnMatrix2))\n",
        "\n"
      ],
      "metadata": {
        "id": "-u3IbtJK3jIb",
        "outputId": "56564892-f2fa-4dde-a565-de284fae76e1",
        "colab": {
          "base_uri": "https://localhost:8080/"
        }
      },
      "execution_count": 11,
      "outputs": [
        {
          "output_type": "stream",
          "name": "stdout",
          "text": [
            "mm product E * R:\n",
            " [[1. 0. 0.]\n",
            " [0. 1. 0.]\n",
            " [0. 0. 1.]]\n",
            "mm product C * R:\n",
            " [[ 1  4  9]\n",
            " [ 2  8 18]\n",
            " [ 3 12 27]]\n",
            "mm product R * C:\n",
            " [[36  0  0]\n",
            " [ 0  0  0]\n",
            " [ 0  0  0]]\n",
            "mm product C2 * R2:\n",
            " [[ 1  4  9]\n",
            " [ 2  8 18]\n",
            " [ 3 12 27]]\n",
            "mm product R2 * C2:\n",
            " [[ 0  0  0]\n",
            " [ 0  0  0]\n",
            " [ 0  0 36]]\n",
            "mv1 product E * E:\n",
            " [4 4 4]\n",
            "mv1 product C * R:\n",
            " [1 0 0]\n",
            "mv1 product R * C:\n",
            " [1 0 0]\n"
          ]
        }
      ]
    },
    {
      "cell_type": "code",
      "source": [
        "print(\"mv1 product E * E:\\n\",\n",
        "          (mv1(expansionMatrix,expansionMatrix)))\n",
        "print(\"mv1 product C * R:\\n\",\n",
        "    mv1(columnMatrix,rowMatrix))\n",
        "print(\"mv1 product R * C:\\n\",\n",
        "    mv1(rowMatrix,columnMatrix))"
      ],
      "metadata": {
        "id": "wR0Zi3ed4jCQ"
      },
      "execution_count": null,
      "outputs": []
    },
    {
      "cell_type": "code",
      "source": [
        "rank3DiagonalUnityVectorTensor = jnp.array(\n",
        "                  (\n",
        "                    (\n",
        "                    ((1,0,0),\n",
        "                    (0,0,0),\n",
        "                    (0,0,0))\n",
        "                    ,\n",
        "                    ((0,0,0),\n",
        "                    (0,0,0),\n",
        "                    (0,0,0))\n",
        "                    ,\n",
        "                    ((0,0,0),\n",
        "                    (0,0,0),\n",
        "                    (0,0,0))\n",
        "                    ),\n",
        "                    (\n",
        "                    ((0,0,0),\n",
        "                    (0,0,0),\n",
        "                    (0,0,0))\n",
        "                    ,\n",
        "                    ((0,0,0),\n",
        "                    (0,1,0),\n",
        "                    (0,0,0))\n",
        "                    ,\n",
        "                    ((0,0,0),\n",
        "                    (0,0,0),\n",
        "                    (0,0,0))\n",
        "                    ),\n",
        "                    (\n",
        "                    ((0,0,0),\n",
        "                    (0,0,0),\n",
        "                    (0,0,0))\n",
        "                    ,\n",
        "                    ((0,0,0),\n",
        "                    (0,0,0),\n",
        "                    (0,0,0))\n",
        "                    ,\n",
        "                    ((0,0,0),\n",
        "                    (0,0,0),\n",
        "                    (0,0,1))\n",
        "                    )\n",
        "))\n",
        "print(\"mm2 product sillyTensor * sillyTensor:\\n\",\n",
        "    mm2(rank3DiagonalUnityVectorTensor,rank3DiagonalUnityVectorTensor))"
      ],
      "metadata": {
        "id": "V5R77ymX21QQ",
        "outputId": "ba38ef11-47f9-4dcd-d261-fdd68f0ab95a",
        "colab": {
          "base_uri": "https://localhost:8080/"
        }
      },
      "execution_count": 8,
      "outputs": [
        {
          "output_type": "stream",
          "name": "stdout",
          "text": [
            "mm2 product sillyTensor * sillyTensor:\n",
            " [[1 0 0]\n",
            " [0 1 0]\n",
            " [0 0 1]]\n"
          ]
        }
      ]
    },
    {
      "cell_type": "code",
      "execution_count": null,
      "metadata": {
        "id": "Xr2dUi8ktplY"
      },
      "outputs": [],
      "source": [
        "#Doing this isn't actually needed as colab instances\n",
        "#come with jax installed\n",
        "projects = [\n",
        "    (\"jax\",\"https://github.com/google/jax\")]\n",
        "JAX_DIR = f\"/content/{projects[0][0]}\"\n",
        "for project, repo in projects:\n",
        "  !rm -rf ./{project}\n",
        "  !git clone {repo}"
      ]
    },
    {
      "cell_type": "code",
      "source": [
        "#Doing this isn't actually needed as colab instances\n",
        "#come with jax installed\n",
        "!pip install jaxlib\n",
        "!cd {JAX_DIR} && pip install -e .\n"
      ],
      "metadata": {
        "id": "5EItG6dNt449"
      },
      "execution_count": null,
      "outputs": []
    }
  ]
}