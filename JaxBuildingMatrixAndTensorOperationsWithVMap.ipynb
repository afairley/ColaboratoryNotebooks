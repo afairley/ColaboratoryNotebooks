{
  "nbformat": 4,
  "nbformat_minor": 0,
  "metadata": {
    "colab": {
      "provenance": [],
      "include_colab_link": true
    },
    "kernelspec": {
      "name": "python3",
      "display_name": "Python 3"
    },
    "language_info": {
      "name": "python"
    }
  },
  "cells": [
    {
      "cell_type": "markdown",
      "metadata": {
        "id": "view-in-github",
        "colab_type": "text"
      },
      "source": [
        "<a href=\"https://colab.research.google.com/github/afairley/ColaboratoryNotebooks/blob/main/JaxBuildingMatrixAndTensorOperationsWithVMap.ipynb\" target=\"_parent\"><img src=\"https://colab.research.google.com/assets/colab-badge.svg\" alt=\"Open In Colab\"/></a>"
      ]
    },
    {
      "cell_type": "code",
      "source": [
        "import jax\n",
        "jax.print_environment_info(return_string=False)"
      ],
      "metadata": {
        "colab": {
          "base_uri": "https://localhost:8080/"
        },
        "id": "thtE4p77umZ8",
        "outputId": "203d0dd8-f440-4c71-84e1-97a863b84b56"
      },
      "execution_count": null,
      "outputs": [
        {
          "output_type": "stream",
          "name": "stdout",
          "text": [
            "jax:    0.4.23\n",
            "jaxlib: 0.4.23\n",
            "numpy:  1.25.2\n",
            "python: 3.10.12 (main, Nov 20 2023, 15:14:05) [GCC 11.4.0]\n",
            "jax.devices (1 total, 1 local): [CpuDevice(id=0)]\n",
            "process_count: 1\n"
          ]
        }
      ]
    },
    {
      "cell_type": "code",
      "source": [
        "import jax.numpy as jnp\n",
        "import jax.tree_util as tree_util\n",
        "from jax import vmap\n",
        "\n",
        "\n",
        "vv = lambda x, y: jnp.vdot(x, y)  #  ([a], [a]) -> []\n",
        "mv = vmap(vv, (0, None), 0)      #  ([b,a], [a]) -> [b]      (b is the mapped axis)\n",
        "mm = vmap(mv, (None, 1), 1)      #  ([b,a], [a,c]) -> [b,c]  (c is the mapped axis)\n",
        "\n",
        "mv1 = vmap(vv, (0, 0), 0)   #  ([b,a], [b,a]) -> [b]        (b is the mapped axis)\n",
        "mv2 = vmap(vv, (0, 1), 0)   #  ([b,a], [a,b]) -> [b]        (b is the mapped axis)\n",
        "\n",
        "mm2 = vmap(mv2, (1, 1), 0)  #  ([b,c,a], [a,c,b]) -> [c,b]  (c is the mapped axis)\n",
        "\n",
        "vm = vmap(vv, (None, 0), 0)      #  ([a], [a,b]) -> [a]\n",
        "mm3 = vmap(vm, (1, None), 1)      #  ([a,b], [b,c]) -> [c,b]\n",
        "\n",
        "vm2 = vmap(vv, (None, 1), 0)      #  ([a], [a,b]) -> [a]\n",
        "mm4 = vmap(vm, (1, None), 1)      #  ([a,b], [b,c]) -> [c,b]\n",
        "\n",
        "#switching the tuple in this way inverts the order of matrix multiplication\n",
        "#constituent operations\n",
        "vmapped_dot = vmap(vv, (1, None), 0)\n",
        "vmapped_vmapped_dot = vmap(vmapped_dot, (None, 0), 1)\n",
        "\n",
        "\n",
        "vmapped_dot2 = vmap(vv, (0, None), 0)\n",
        "vmapped_vmapped_dot2 = vmap(vmapped_dot2, (None, 1), 1)"
      ],
      "metadata": {
        "id": "GsJh1Lg4u7ms"
      },
      "execution_count": null,
      "outputs": []
    },
    {
      "cell_type": "code",
      "source": [
        "identityMatrix = jnp.array(((1,0,0),\n",
        "                  (0,1,0),\n",
        "                  (0,0,1)))\n",
        "permuteABMatrix = jnp.array(((0,1,0),\n",
        "                  (1,0,0),\n",
        "                  (0,0,1)))\n",
        "permuteBCMatrix = jnp.array(((1,0,0),\n",
        "                  (0,0,1),\n",
        "                  (0,1,0)))\n",
        "oneRowVector = jnp.array((1,1,1))\n",
        "oneColumnVector = jnp.array(((1),\n",
        "                             (1),\n",
        "                             (1)))\n",
        "columnMatrix = jnp.array(((1,0,0),\n",
        "                  (2,0,0),\n",
        "                  (3,0,0)))\n",
        "rowMatrix = jnp.array(((1,4,9),\n",
        "                  (0,0,0),\n",
        "                  (0,0,0)))\n",
        "columnMatrix2 = jnp.array(((0,0,1),\n",
        "                  (0,0,2),\n",
        "                  (0,0,3)))\n",
        "rowMatrix2 = jnp.array(((0,0,0),\n",
        "                  (0,0,0),\n",
        "                  (1,4,9)))\n",
        "\n",
        "#expansionMatrix = map( lambda x: map( lambda y: y *2, x) *2 , identityMatrix)\n",
        "#You can no longer do the above.\n",
        "def right_multiply_matrix_by_scalar(matrix, scalar):\n",
        "  return tree_util.tree_map(lambda x : x * scalar, matrix)\n",
        "expansionMatrix = right_multiply_matrix_by_scalar(identityMatrix, 2)\n",
        "reductionMatrix = right_multiply_matrix_by_scalar(identityMatrix, 0.5)\n",
        "\n"
      ],
      "metadata": {
        "id": "pQLBlDDVv3Kj"
      },
      "execution_count": null,
      "outputs": []
    },
    {
      "cell_type": "code",
      "source": [
        "\n",
        "print(\"Identity Matrix I:\\n\" , identityMatrix)\n",
        "print(\"Permutation Matrix P_AB:\\n\" , permuteABMatrix)\n",
        "print(\"Permutation Matrix P_BC:\\n\" , permuteBCMatrix)\n",
        "print(\"RowVector v1:\\n\" , oneRowVector)\n",
        "print(\"Column Vector vT1:\\n\" , oneColumnVector)\n",
        "print(\"Expansion Matrix E:\\n\" , expansionMatrix)\n",
        "print(\"Reduction Matrix R:\\n\" , reductionMatrix)\n",
        "print(\"Column Matrix C:\\n\" , columnMatrix)\n",
        "print(\"Row Matrix R:\\n\" , rowMatrix)\n",
        "print(\"Column Matrix C2:\\n\" , columnMatrix2)\n",
        "print(\"Row Matrix R2:\\n\" , rowMatrix2)\n",
        "\n",
        "\n"
      ],
      "metadata": {
        "colab": {
          "base_uri": "https://localhost:8080/"
        },
        "id": "UP6Xv5Vs3nYq",
        "outputId": "36d1a425-a12b-4dc2-cf82-47d128fe62dc"
      },
      "execution_count": null,
      "outputs": [
        {
          "output_type": "stream",
          "name": "stdout",
          "text": [
            "Identity Matrix I:\n",
            " [[1 0 0]\n",
            " [0 1 0]\n",
            " [0 0 1]]\n",
            "Permutation Matrix P_AB:\n",
            " [[0 1 0]\n",
            " [1 0 0]\n",
            " [0 0 1]]\n",
            "Permutation Matrix P_BC:\n",
            " [[1 0 0]\n",
            " [0 0 1]\n",
            " [0 1 0]]\n",
            "RowVector v1:\n",
            " [1 1 1]\n",
            "Column Vector vT1:\n",
            " [1 1 1]\n",
            "Expansion Matrix E:\n",
            " [[2 0 0]\n",
            " [0 2 0]\n",
            " [0 0 2]]\n",
            "Reduction Matrix R:\n",
            " [[0.5 0.  0. ]\n",
            " [0.  0.5 0. ]\n",
            " [0.  0.  0.5]]\n",
            "Column Matrix C:\n",
            " [[1 0 0]\n",
            " [2 0 0]\n",
            " [3 0 0]]\n",
            "Row Matrix R:\n",
            " [[1 4 9]\n",
            " [0 0 0]\n",
            " [0 0 0]]\n",
            "Column Matrix C2:\n",
            " [[0 0 1]\n",
            " [0 0 2]\n",
            " [0 0 3]]\n",
            "Row Matrix R2:\n",
            " [[0 0 0]\n",
            " [0 0 0]\n",
            " [1 4 9]]\n"
          ]
        }
      ]
    },
    {
      "cell_type": "code",
      "source": [
        "#It would appear that while tree_map is perfectly happy to map over tuple trees\n",
        "#vmap does not handle them unless they are upgraded to jnp.array\n",
        "#mm(expansionMatrix,reductionMatrix) #appears to throw a shape error\n",
        "print(\"mm product E * R:\\n\",\n",
        "    mm(expansionMatrix,reductionMatrix))\n",
        "print(\"mm product C * R:\\n\",\n",
        "    mm(columnMatrix,rowMatrix))\n",
        "print(\"mm product R * C:\\n\",\n",
        "    mm(rowMatrix,columnMatrix))\n",
        "print(\"mm product C2 * R2:\\n\",\n",
        "    mm(columnMatrix2,rowMatrix2))\n",
        "print(\"mm product R2 * C2:\\n\",\n",
        "    mm(rowMatrix2,columnMatrix2))\n",
        "\n"
      ],
      "metadata": {
        "colab": {
          "base_uri": "https://localhost:8080/"
        },
        "id": "-u3IbtJK3jIb",
        "outputId": "56564892-f2fa-4dde-a565-de284fae76e1"
      },
      "execution_count": null,
      "outputs": [
        {
          "output_type": "stream",
          "name": "stdout",
          "text": [
            "mm product E * R:\n",
            " [[1. 0. 0.]\n",
            " [0. 1. 0.]\n",
            " [0. 0. 1.]]\n",
            "mm product C * R:\n",
            " [[ 1  4  9]\n",
            " [ 2  8 18]\n",
            " [ 3 12 27]]\n",
            "mm product R * C:\n",
            " [[36  0  0]\n",
            " [ 0  0  0]\n",
            " [ 0  0  0]]\n",
            "mm product C2 * R2:\n",
            " [[ 1  4  9]\n",
            " [ 2  8 18]\n",
            " [ 3 12 27]]\n",
            "mm product R2 * C2:\n",
            " [[ 0  0  0]\n",
            " [ 0  0  0]\n",
            " [ 0  0 36]]\n",
            "mv1 product E * E:\n",
            " [4 4 4]\n",
            "mv1 product C * R:\n",
            " [1 0 0]\n",
            "mv1 product R * C:\n",
            " [1 0 0]\n"
          ]
        }
      ]
    },
    {
      "cell_type": "code",
      "source": [
        "print(\"vm product rV1 * I:\\n\",\n",
        "    vm(oneRowVector,identityMatrix))\n",
        "print(\"vm product I * E:\\n\",\n",
        "    vm(oneRowVector,expansionMatrix))\n",
        "\n",
        "print(\"vm2 product rV1 * I:\\n\",\n",
        "    vm2(oneRowVector,identityMatrix))\n",
        "print(\"vm2 product I * E:\\n\",\n",
        "    vm2(oneRowVector,expansionMatrix))"
      ],
      "metadata": {
        "colab": {
          "base_uri": "https://localhost:8080/"
        },
        "id": "3WrPLsks6FHp",
        "outputId": "ea8111bd-7250-4910-9a78-8eadc79290f6"
      },
      "execution_count": null,
      "outputs": [
        {
          "output_type": "stream",
          "name": "stdout",
          "text": [
            "vm product rV1 * I:\n",
            " [1 1 1]\n",
            "vm product I * E:\n",
            " [2 2 2]\n",
            "vm2 product rV1 * I:\n",
            " [1 1 1]\n",
            "vm2 product I * E:\n",
            " [2 2 2]\n"
          ]
        }
      ]
    },
    {
      "cell_type": "code",
      "source": [
        "print(\"mm3 product E * R:\\n\",\n",
        "    mm3(expansionMatrix,reductionMatrix))\n",
        "print(\"mm3 product C * R:\\n\",\n",
        "    mm3(columnMatrix,rowMatrix))\n",
        "print(\"mm3 product R * C:\\n\",\n",
        "    mm3(rowMatrix,columnMatrix))\n",
        "print(\"mm3 product C2 * R2:\\n\",\n",
        "    mm3(columnMatrix2,rowMatrix2))\n",
        "print(\"mm3 product R2 * C2:\\n\",\n",
        "    mm3(rowMatrix2,columnMatrix2))"
      ],
      "metadata": {
        "colab": {
          "base_uri": "https://localhost:8080/"
        },
        "id": "YIq93If65UGc",
        "outputId": "b3536400-27aa-44a3-abcb-99a9d5016ca1"
      },
      "execution_count": null,
      "outputs": [
        {
          "output_type": "stream",
          "name": "stdout",
          "text": [
            "mm3 product E * R:\n",
            " [[1. 0. 0.]\n",
            " [0. 1. 0.]\n",
            " [0. 0. 1.]]\n",
            "mm3 product C * R:\n",
            " [[36  0  0]\n",
            " [ 0  0  0]\n",
            " [ 0  0  0]]\n",
            "mm3 product R * C:\n",
            " [[ 1  4  9]\n",
            " [ 2  8 18]\n",
            " [ 3 12 27]]\n",
            "mm3 product C2 * R2:\n",
            " [[ 0  0  0]\n",
            " [ 0  0  0]\n",
            " [ 0  0 36]]\n",
            "mm3 product R2 * C2:\n",
            " [[ 1  4  9]\n",
            " [ 2  8 18]\n",
            " [ 3 12 27]]\n"
          ]
        }
      ]
    },
    {
      "cell_type": "code",
      "source": [
        "print(\"vmapped_vmapped_dot product E * R:\\n\",\n",
        "    vmapped_vmapped_dot(expansionMatrix,reductionMatrix))\n",
        "print(\"vmapped_vmapped_dot product C * R:\\n\",\n",
        "    vmapped_vmapped_dot(columnMatrix,rowMatrix))\n",
        "print(\"vmapped_vmapped_dot product R * C:\\n\",\n",
        "    vmapped_vmapped_dot(rowMatrix,columnMatrix))\n",
        "print(\"vmapped_vmapped_dot product C2 * R2:\\n\",\n",
        "    vmapped_vmapped_dot(columnMatrix2,rowMatrix2))\n",
        "print(\"vmapped_vmapped_dot product R2 * C2:\\n\",\n",
        "    vmapped_vmapped_dot(rowMatrix2,columnMatrix2))"
      ],
      "metadata": {
        "id": "CYXxIEv__28I",
        "outputId": "60ac5f4b-7564-4255-b664-2f092969e756",
        "colab": {
          "base_uri": "https://localhost:8080/"
        }
      },
      "execution_count": null,
      "outputs": [
        {
          "output_type": "stream",
          "name": "stdout",
          "text": [
            "vmapped_vmapped_dot product E * R:\n",
            " [[1. 0. 0.]\n",
            " [0. 1. 0.]\n",
            " [0. 0. 1.]]\n",
            "vmapped_vmapped_dot product C * R:\n",
            " [[36  0  0]\n",
            " [ 0  0  0]\n",
            " [ 0  0  0]]\n",
            "vmapped_vmapped_dot product R * C:\n",
            " [[ 1  2  3]\n",
            " [ 4  8 12]\n",
            " [ 9 18 27]]\n",
            "vmapped_vmapped_dot product C2 * R2:\n",
            " [[ 0  0  0]\n",
            " [ 0  0  0]\n",
            " [ 0  0 36]]\n",
            "vmapped_vmapped_dot product R2 * C2:\n",
            " [[ 1  2  3]\n",
            " [ 4  8 12]\n",
            " [ 9 18 27]]\n"
          ]
        }
      ]
    },
    {
      "cell_type": "code",
      "source": [
        "print(\"mv1 product E * E:\\n\",\n",
        "          (mv1(expansionMatrix,expansionMatrix)))\n",
        "print(\"mv1 product C * R:\\n\",\n",
        "    mv1(columnMatrix,rowMatrix))\n",
        "print(\"mv1 product R * C:\\n\",\n",
        "    mv1(rowMatrix,columnMatrix))"
      ],
      "metadata": {
        "colab": {
          "base_uri": "https://localhost:8080/"
        },
        "id": "wR0Zi3ed4jCQ",
        "outputId": "7d509ae0-3ae3-4906-8a45-4f3c295e6a5f"
      },
      "execution_count": null,
      "outputs": [
        {
          "output_type": "stream",
          "name": "stdout",
          "text": [
            "mv1 product E * E:\n",
            " [4 4 4]\n",
            "mv1 product C * R:\n",
            " [1 0 0]\n",
            "mv1 product R * C:\n",
            " [1 0 0]\n"
          ]
        }
      ]
    },
    {
      "cell_type": "code",
      "source": [
        "rank3DiagonalUnityVectorTensor = jnp.array(\n",
        "                  (\n",
        "                    (\n",
        "                    ((1,0,0),\n",
        "                    (0,0,0),\n",
        "                    (0,0,0))\n",
        "                    ,\n",
        "                    ((0,0,0),\n",
        "                    (0,0,0),\n",
        "                    (0,0,0))\n",
        "                    ,\n",
        "                    ((0,0,0),\n",
        "                    (0,0,0),\n",
        "                    (0,0,0))\n",
        "                    ),\n",
        "                    (\n",
        "                    ((0,0,0),\n",
        "                    (0,0,0),\n",
        "                    (0,0,0))\n",
        "                    ,\n",
        "                    ((0,0,0),\n",
        "                    (0,1,0),\n",
        "                    (0,0,0))\n",
        "                    ,\n",
        "                    ((0,0,0),\n",
        "                    (0,0,0),\n",
        "                    (0,0,0))\n",
        "                    ),\n",
        "                    (\n",
        "                    ((0,0,0),\n",
        "                    (0,0,0),\n",
        "                    (0,0,0))\n",
        "                    ,\n",
        "                    ((0,0,0),\n",
        "                    (0,0,0),\n",
        "                    (0,0,0))\n",
        "                    ,\n",
        "                    ((0,0,0),\n",
        "                    (0,0,0),\n",
        "                    (0,0,1))\n",
        "                    )\n",
        "))\n",
        "print(\"mm2 product sillyTensor * sillyTensor:\\n\",\n",
        "    mm2(rank3DiagonalUnityVectorTensor,rank3DiagonalUnityVectorTensor))"
      ],
      "metadata": {
        "colab": {
          "base_uri": "https://localhost:8080/"
        },
        "id": "V5R77ymX21QQ",
        "outputId": "ba38ef11-47f9-4dcd-d261-fdd68f0ab95a"
      },
      "execution_count": null,
      "outputs": [
        {
          "output_type": "stream",
          "name": "stdout",
          "text": [
            "mm2 product sillyTensor * sillyTensor:\n",
            " [[1 0 0]\n",
            " [0 1 0]\n",
            " [0 0 1]]\n"
          ]
        }
      ]
    },
    {
      "cell_type": "markdown",
      "source": [
        "Vmap Source: https://github.com/google/jax/blob/main/jax/_src/api.py#L1061\n",
        "\n",
        "tree_flatten Source: There are in fact numerous definitions of tree_flatten. Looking at imports it is presumably\n",
        "\n",
        "https://github.com/google/jax/blob/main/jax/_src/tree_util.py#L71\n",
        "\n",
        "https://github.com/google/jax/blob/main/jax/_src/lib/__init__.py#L93\n",
        "Which is a layer of indirection around\n",
        "jaxlib.xla_client._xla.pytree\n",
        "which is somewhere in the C++ code\n",
        "\n",
        "lu.wrap_init Source:https://github.com/google/jax/blob/main/jax/_src/linear_util.py#L262\n",
        "\n",
        "batching.flatten_fun_for_vmap Source:https://github.com/google/jax/blob/main/jax/_src/interpreters/batching.py#L304\n",
        "\n",
        "flatten_axes Source:https://github.com/google/jax/blob/main/jax/_src/api_util.py#L404\n",
        "\n",
        "tree_unflatten Source: Similar story to tree_flatten\n",
        "\n",
        "https://github.com/google/jax/blob/main/jax/_src/tree_util.py#L107\n",
        "\n",
        "cast Source:(imported from python's typing module)"
      ],
      "metadata": {
        "id": "oCY1ko2oIxVb"
      }
    },
    {
      "cell_type": "code",
      "execution_count": null,
      "metadata": {
        "id": "Xr2dUi8ktplY"
      },
      "outputs": [],
      "source": [
        "#Doing this isn't actually needed as colab instances\n",
        "#come with jax installed(unless you want to browse source in colab)\n",
        "projects = [\n",
        "    (\"jax\",\"https://github.com/google/jax\")]\n",
        "JAX_DIR = f\"/content/{projects[0][0]}\"\n",
        "for project, repo in projects:\n",
        "  !rm -rf ./{project}\n",
        "  !git clone {repo}"
      ]
    },
    {
      "cell_type": "code",
      "source": [
        "#Doing this isn't actually needed as colab instances\n",
        "#come with jax installed\n",
        "!pip install jaxlib\n",
        "!cd {JAX_DIR} && pip install -e .\n"
      ],
      "metadata": {
        "id": "5EItG6dNt449"
      },
      "execution_count": null,
      "outputs": []
    }
  ]
}