{
  "nbformat": 4,
  "nbformat_minor": 0,
  "metadata": {
    "colab": {
      "provenance": [],
      "toc_visible": true,
      "include_colab_link": true
    },
    "kernelspec": {
      "name": "python3",
      "display_name": "Python 3"
    },
    "language_info": {
      "name": "python"
    }
  },
  "cells": [
    {
      "cell_type": "markdown",
      "metadata": {
        "id": "view-in-github",
        "colab_type": "text"
      },
      "source": [
        "<a href=\"https://colab.research.google.com/github/afairley/ColaboratoryNotebooks/blob/main/JaxBuildingMatrixAndTensorOperationsWithVMap.ipynb\" target=\"_parent\"><img src=\"https://colab.research.google.com/assets/colab-badge.svg\" alt=\"Open In Colab\"/></a>"
      ]
    },
    {
      "cell_type": "code",
      "source": [
        "import jax\n",
        "jax.print_environment_info(return_string=False)"
      ],
      "metadata": {
        "colab": {
          "base_uri": "https://localhost:8080/"
        },
        "id": "thtE4p77umZ8",
        "outputId": "203d0dd8-f440-4c71-84e1-97a863b84b56"
      },
      "execution_count": null,
      "outputs": [
        {
          "output_type": "stream",
          "name": "stdout",
          "text": [
            "jax:    0.4.23\n",
            "jaxlib: 0.4.23\n",
            "numpy:  1.25.2\n",
            "python: 3.10.12 (main, Nov 20 2023, 15:14:05) [GCC 11.4.0]\n",
            "jax.devices (1 total, 1 local): [CpuDevice(id=0)]\n",
            "process_count: 1\n"
          ]
        }
      ]
    },
    {
      "cell_type": "markdown",
      "source": [
        "\n",
        "#vmap examples\n",
        "from DocString and other permutation variants\n",
        "Still don't have a solid operational definition of the exact behavior\n",
        "of vmap yet, but I think this is most of the basic meaningful permutations.\n",
        "There are quite a few other permutations that can be done even restricting\n",
        "ourselves to a \"pair\" tuple with no tree structure for in_axes.\n",
        "\n",
        "It basically looks to work along the lines you'd expect if you've implemented\n",
        "this sort of code before. Theoretically refactoring all the code in jax that\n",
        "does something along the lines of turning user provided list and tuple pytrees\n",
        "into tuple pytrees and getting all the code backing vmap into a single module\n",
        "might provide some efficiency gains depending on how actual python's JIT\n",
        "handles function calls across many modules and back and forth over the\n",
        "jaxlib/jax boundry. It has presumably been looked at internally.\n",
        "\n",
        "I'm not really sure if I want to proceed by writing a pretty printer for matrices and tensors and their various products or unrolling all the code.\n",
        "Most likely I'm going to do both, although I actually want to read through\n",
        "the haiku and XLA source at present as well. VMap appears to call all the\n",
        "way down into XLA, so I can probably scratch that itch while staying\n",
        "\"on task\" as it were.\n",
        "\n",
        "Perhaps there is some other wasy I can stash this text here in this markdown instance, the following effort based on advice from the hoi polloi doens't seem to work.( https://stackoverflow.com/questions/4823468/comments-in-markdown )\n",
        "[//]: # It would appear that while tree_map is perfectly happy to map over\n",
        "[//]: # tuple trees vmap does not handle them unless they are upgraded to\n",
        "[//]: # jnp.array\n",
        "[//]: # #mm(expansionMatrix,reductionMatrix) #appears to throw a shape error"
      ],
      "metadata": {
        "id": "AGwuGC2UxRU8"
      }
    },
    {
      "cell_type": "code",
      "source": [
        "import jax.numpy as jnp\n",
        "import jax.tree_util as tree_util\n",
        "from jax import vmap\n",
        "\n",
        "\n",
        "vv = lambda x, y: jnp.vdot(x, y)  #  ([a], [a]) -> []\n",
        "mv = vmap(vv, (0, None), 0)      #  ([b,a], [a]) -> [b]      (b is the mapped axis)\n",
        "mm = vmap(mv, (None, 1), 1)      #  ([b,a], [a,c]) -> [b,c]  (c is the mapped axis)\n",
        "\n",
        "mv1 = vmap(vv, (0, 0), 0)   #  ([b,a], [b,a]) -> [b]        (b is the mapped axis)\n",
        "mv2 = vmap(vv, (0, 1), 0)   #  ([b,a], [a,b]) -> [b]        (b is the mapped axis)\n",
        "\n",
        "#this thing is actuall some sort of tensor product and not a matrix product at\n",
        "#all\n",
        "tp1 = vmap(mv2, (1, 1), 0)  #  mm2 originally\n",
        "                            #([b,c,a], [a,c,b]) -> [c,b]  (c is the mapped axis)\n",
        "\n",
        "vm = vmap(vv, (None, 0), 0)      #  ([a], [a,b]) -> [a]\n",
        "mm3 = vmap(vm, (1, None), 1)     #so this looks like the reversed matrix conventions\n",
        "                                 #as far as I recall from yesterday\n",
        "                                 #straight application of pattern matching\n",
        "                                 #and inversion of indices would suggest that it does\n",
        "                                 #  ([a,b], [b,c]) -> [c,b]\n",
        "\n",
        "#other variants\n",
        "vm2 = vmap(vv, (None, 1), 0)\n",
        "mm4 = vmap(vm, (1, None), 1)\n",
        "\n",
        "#switching the tuple in this way inverts the order of matrix multiplication\n",
        "#constituent operations\n",
        "vmapped_dot = vmap(vv, (1, None), 0)\n",
        "vmapped_vmapped_dot = vmap(vmapped_dot, (None, 0), 1)\n",
        "\n",
        "\n",
        "vmapped_dot2 = vmap(vv, (0, None), 0)\n",
        "vmapped_vmapped_dot2 = vmap(vmapped_dot2, (None, 1), 1)"
      ],
      "metadata": {
        "id": "GsJh1Lg4u7ms"
      },
      "execution_count": 1,
      "outputs": []
    },
    {
      "cell_type": "markdown",
      "source": [
        "# Basic Matrices"
      ],
      "metadata": {
        "id": "rGyCOvgYxhQl"
      }
    },
    {
      "cell_type": "code",
      "source": [
        "identityMatrix = jnp.array(((1,0,0),\n",
        "                  (0,1,0),\n",
        "                  (0,0,1)))\n",
        "permuteABMatrix = jnp.array(((0,1,0),\n",
        "                  (1,0,0),\n",
        "                  (0,0,1)))\n",
        "permuteBCMatrix = jnp.array(((1,0,0),\n",
        "                  (0,0,1),\n",
        "                  (0,1,0)))\n",
        "oneRowVector = jnp.array((1,1,1))\n",
        "oneColumnVector = jnp.array(((1),\n",
        "                             (1),\n",
        "                             (1)))\n",
        "columnMatrix = jnp.array(((1,0,0),\n",
        "                  (2,0,0),\n",
        "                  (3,0,0)))\n",
        "rowMatrix = jnp.array(((1,4,9),\n",
        "                  (0,0,0),\n",
        "                  (0,0,0)))\n",
        "columnMatrix2 = jnp.array(((0,0,1),\n",
        "                  (0,0,2),\n",
        "                  (0,0,3)))\n",
        "rowMatrix2 = jnp.array(((0,0,0),\n",
        "                  (0,0,0),\n",
        "                  (1,4,9)))\n",
        "\n",
        "#expansionMatrix = map( lambda x: map( lambda y: y *2, x) *2 , identityMatrix)\n",
        "#You can no longer do the above.\n",
        "def right_multiply_matrix_by_scalar(matrix, scalar):\n",
        "  return tree_util.tree_map(lambda x : x * scalar, matrix)\n",
        "expansionMatrix = right_multiply_matrix_by_scalar(identityMatrix, 2)\n",
        "reductionMatrix = right_multiply_matrix_by_scalar(identityMatrix, 0.5)\n",
        "\n"
      ],
      "metadata": {
        "id": "pQLBlDDVv3Kj"
      },
      "execution_count": 2,
      "outputs": []
    },
    {
      "cell_type": "code",
      "source": [
        "\n",
        "print(\"Identity Matrix I:\\n\" , identityMatrix)\n",
        "print(\"Permutation Matrix P_AB:\\n\" , permuteABMatrix)\n",
        "print(\"Permutation Matrix P_BC:\\n\" , permuteBCMatrix)\n",
        "print(\"RowVector v1:\\n\" , oneRowVector)\n",
        "print(\"Column Vector vT1:\\n\" , oneColumnVector)\n",
        "print(\"Expansion Matrix E:\\n\" , expansionMatrix)\n",
        "print(\"Reduction Matrix R:\\n\" , reductionMatrix)\n",
        "print(\"Column Matrix C:\\n\" , columnMatrix)\n",
        "print(\"Row Matrix R:\\n\" , rowMatrix)\n",
        "print(\"Column Matrix C2:\\n\" , columnMatrix2)\n",
        "print(\"Row Matrix R2:\\n\" , rowMatrix2)\n",
        "\n",
        "\n"
      ],
      "metadata": {
        "id": "UP6Xv5Vs3nYq"
      },
      "execution_count": null,
      "outputs": []
    },
    {
      "cell_type": "markdown",
      "source": [
        "#Applications of various \"Products\"\n",
        "Without writing a pretty printer for printing multiple matrices in shared console real estate,\n",
        " following the following is more cognitive overhead than is sensible\n",
        "for reasoning.\n",
        "Math notation is handy for a reason.\n",
        "I will probably write a narrowly delimited matrix pretty printer. Something taking 3 at most maybe 4x4 matrices ought to be reasonably straight forward\n",
        "and presumably has been written dozens of times. Maybe I can find one if I look\n",
        "around a bit."
      ],
      "metadata": {
        "id": "8zk6Muu02rPU"
      }
    },
    {
      "cell_type": "code",
      "source": [
        "\n",
        "print(\"mm product E * R:\\n\",\n",
        "    mm(expansionMatrix,reductionMatrix))\n",
        "print(\"mm product C * R:\\n\",\n",
        "    mm(columnMatrix,rowMatrix))\n",
        "print(\"mm product R * C:\\n\",\n",
        "    mm(rowMatrix,columnMatrix))\n",
        "print(\"mm product C2 * R2:\\n\",\n",
        "    mm(columnMatrix2,rowMatrix2))\n",
        "print(\"mm product R2 * C2:\\n\",\n",
        "    mm(rowMatrix2,columnMatrix2))\n",
        "\n"
      ],
      "metadata": {
        "id": "-u3IbtJK3jIb"
      },
      "execution_count": null,
      "outputs": []
    },
    {
      "cell_type": "code",
      "source": [
        "print(\"vm product rV1 * I:\\n\",\n",
        "    vm(oneRowVector,identityMatrix))\n",
        "print(\"vm product I * E:\\n\",\n",
        "    vm(oneRowVector,expansionMatrix))\n",
        "\n",
        "print(\"vm2 product rV1 * I:\\n\",\n",
        "    vm2(oneRowVector,identityMatrix))\n",
        "print(\"vm2 product I * E:\\n\",\n",
        "    vm2(oneRowVector,expansionMatrix))"
      ],
      "metadata": {
        "id": "3WrPLsks6FHp"
      },
      "execution_count": null,
      "outputs": []
    },
    {
      "cell_type": "code",
      "source": [
        "print(\"mm3 product E * R:\\n\",\n",
        "    mm3(expansionMatrix,reductionMatrix))\n",
        "print(\"mm3 product C * R:\\n\",\n",
        "    mm3(columnMatrix,rowMatrix))\n",
        "print(\"mm3 product R * C:\\n\",\n",
        "    mm3(rowMatrix,columnMatrix))\n",
        "print(\"mm3 product C2 * R2:\\n\",\n",
        "    mm3(columnMatrix2,rowMatrix2))\n",
        "print(\"mm3 product R2 * C2:\\n\",\n",
        "    mm3(rowMatrix2,columnMatrix2))"
      ],
      "metadata": {
        "id": "YIq93If65UGc"
      },
      "execution_count": null,
      "outputs": []
    },
    {
      "cell_type": "code",
      "source": [
        "print(\"vmapped_vmapped_dot product E * R:\\n\",\n",
        "    vmapped_vmapped_dot(expansionMatrix,reductionMatrix))\n",
        "print(\"vmapped_vmapped_dot product C * R:\\n\",\n",
        "    vmapped_vmapped_dot(columnMatrix,rowMatrix))\n",
        "print(\"vmapped_vmapped_dot product R * C:\\n\",\n",
        "    vmapped_vmapped_dot(rowMatrix,columnMatrix))\n",
        "print(\"vmapped_vmapped_dot product C2 * R2:\\n\",\n",
        "    vmapped_vmapped_dot(columnMatrix2,rowMatrix2))\n",
        "print(\"vmapped_vmapped_dot product R2 * C2:\\n\",\n",
        "    vmapped_vmapped_dot(rowMatrix2,columnMatrix2))"
      ],
      "metadata": {
        "id": "CYXxIEv__28I"
      },
      "execution_count": null,
      "outputs": []
    },
    {
      "cell_type": "code",
      "source": [
        "print(\"mv1 product E * E:\\n\",\n",
        "          (mv1(expansionMatrix,expansionMatrix)))\n",
        "print(\"mv1 product C * R:\\n\",\n",
        "    mv1(columnMatrix,rowMatrix))\n",
        "print(\"mv1 product R * C:\\n\",\n",
        "    mv1(rowMatrix,columnMatrix))"
      ],
      "metadata": {
        "id": "wR0Zi3ed4jCQ"
      },
      "execution_count": null,
      "outputs": []
    },
    {
      "cell_type": "markdown",
      "source": [
        "# Actual Proper \"Tensors\"\n",
        "(even though there's nothing here about covariant or contravariant indices in so far as I can tell which I'm pretty sure is important for proper tensors)\n",
        "\n",
        "Also I'm pretty sure the abuse of \"rank\" by tensor oriented people to mean\n",
        "dimension is the origin of the abuse of \"rank\" to mean dimension instead of meaning the de facto dimension of a potentially higher dimension'd matrix as\n",
        "modern mathematicians mean rank."
      ],
      "metadata": {
        "id": "r8zr7Lu7xxSF"
      }
    },
    {
      "cell_type": "code",
      "source": [
        "rank3DiagonalUnityVectorTensor = jnp.array(\n",
        "                  (\n",
        "                    (\n",
        "                    ((1,0,0),\n",
        "                    (0,0,0),\n",
        "                    (0,0,0))\n",
        "                    ,\n",
        "                    ((0,0,0),\n",
        "                    (0,0,0),\n",
        "                    (0,0,0))\n",
        "                    ,\n",
        "                    ((0,0,0),\n",
        "                    (0,0,0),\n",
        "                    (0,0,0))\n",
        "                    ),\n",
        "                    (\n",
        "                    ((0,0,0),\n",
        "                    (0,0,0),\n",
        "                    (0,0,0))\n",
        "                    ,\n",
        "                    ((0,0,0),\n",
        "                    (0,1,0),\n",
        "                    (0,0,0))\n",
        "                    ,\n",
        "                    ((0,0,0),\n",
        "                    (0,0,0),\n",
        "                    (0,0,0))\n",
        "                    ),\n",
        "                    (\n",
        "                    ((0,0,0),\n",
        "                    (0,0,0),\n",
        "                    (0,0,0))\n",
        "                    ,\n",
        "                    ((0,0,0),\n",
        "                    (0,0,0),\n",
        "                    (0,0,0))\n",
        "                    ,\n",
        "                    ((0,0,0),\n",
        "                    (0,0,0),\n",
        "                    (0,0,1))\n",
        "                    )\n",
        "))\n",
        "print(\"tp1/\\\"mm2\\\" product sillyTensor * sillyTensor:\\n\",\n",
        "    tp1(rank3DiagonalUnityVectorTensor,rank3DiagonalUnityVectorTensor))"
      ],
      "metadata": {
        "colab": {
          "base_uri": "https://localhost:8080/"
        },
        "id": "V5R77ymX21QQ",
        "outputId": "867a830e-37c2-4f71-cfc2-fa7222add93e"
      },
      "execution_count": 3,
      "outputs": [
        {
          "output_type": "stream",
          "name": "stdout",
          "text": [
            "tp1/\"mm2\" product sillyTensor * sillyTensor:\n",
            " [[1 0 0]\n",
            " [0 1 0]\n",
            " [0 0 1]]\n"
          ]
        }
      ]
    },
    {
      "cell_type": "markdown",
      "source": [
        "Vmap Source: https://github.com/google/jax/blob/main/jax/_src/api.py#L1061\n",
        "\n",
        "tree_flatten Source: There are in fact numerous definitions of tree_flatten. Looking at imports it is presumably\n",
        "\n",
        "https://github.com/google/jax/blob/main/jax/_src/tree_util.py#L71\n",
        "\n",
        "https://github.com/google/jax/blob/main/jax/_src/lib/__init__.py#L93\n",
        "Which is a layer of indirection around\n",
        "jaxlib.xla_client._xla.pytree\n",
        "which is somewhere in the C++ code\n",
        "\n",
        "lu.wrap_init Source:https://github.com/google/jax/blob/main/jax/_src/linear_util.py#L262\n",
        "\n",
        "batching.flatten_fun_for_vmap Source:https://github.com/google/jax/blob/main/jax/_src/interpreters/batching.py#L304\n",
        "\n",
        "flatten_axes Source:https://github.com/google/jax/blob/main/jax/_src/api_util.py#L404\n",
        "\n",
        "tree_unflatten Source: Similar story to tree_flatten\n",
        "\n",
        "https://github.com/google/jax/blob/main/jax/_src/tree_util.py#L107\n",
        "\n",
        "cast Source:(imported from python's typing module)"
      ],
      "metadata": {
        "id": "oCY1ko2oIxVb"
      }
    },
    {
      "cell_type": "code",
      "execution_count": null,
      "metadata": {
        "id": "Xr2dUi8ktplY"
      },
      "outputs": [],
      "source": [
        "#Doing this isn't actually needed as colab instances\n",
        "#come with jax installed(unless you want to browse source in colab)\n",
        "#the github browser has gotten good enough to read in some as long as you have\n",
        "#something like colab to play around in.\n",
        "projects = [\n",
        "    (\"jax\",\"https://github.com/google/jax\")]\n",
        "JAX_DIR = f\"/content/{projects[0][0]}\"\n",
        "for project, repo in projects:\n",
        "  !rm -rf ./{project}\n",
        "  !git clone {repo}"
      ]
    },
    {
      "cell_type": "code",
      "source": [
        "#Doing this isn't actually needed as colab instances\n",
        "#come with jax installed\n",
        "!pip install jaxlib\n",
        "!cd {JAX_DIR} && pip install -e .\n"
      ],
      "metadata": {
        "id": "5EItG6dNt449"
      },
      "execution_count": null,
      "outputs": []
    }
  ]
}