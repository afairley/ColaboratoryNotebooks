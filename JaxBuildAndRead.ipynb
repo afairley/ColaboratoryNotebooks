{
  "nbformat": 4,
  "nbformat_minor": 0,
  "metadata": {
    "colab": {
      "private_outputs": true,
      "provenance": [],
      "include_colab_link": true
    },
    "kernelspec": {
      "name": "python3",
      "display_name": "Python 3"
    },
    "language_info": {
      "name": "python"
    }
  },
  "cells": [
    {
      "cell_type": "markdown",
      "metadata": {
        "id": "view-in-github",
        "colab_type": "text"
      },
      "source": [
        "<a href=\"https://colab.research.google.com/github/afairley/ColaboratoryNotebooks/blob/main/JaxBuildAndRead.ipynb\" target=\"_parent\"><img src=\"https://colab.research.google.com/assets/colab-badge.svg\" alt=\"Open In Colab\"/></a>"
      ]
    },
    {
      "cell_type": "code",
      "execution_count": null,
      "metadata": {
        "id": "7WSXI71nfXzY"
      },
      "outputs": [],
      "source": [
        "projects = [\n",
        "    (\"jax\",\"https://github.com/google/jax\")]\n",
        "JAX_DIR = f\"/content/{projects[0][0]}\"\n",
        "for project, repo in projects:\n",
        "  !rm -rf ./{project}\n",
        "  !git clone {repo}"
      ]
    },
    {
      "cell_type": "code",
      "source": [
        "!pip install jaxlib\n",
        "!cd {JAX_DIR} && pip install -e .\n",
        "!cd {JAX_DIR} && pip install -r build/test-requirements.txt"
      ],
      "metadata": {
        "id": "_HN_C1J8hzEV"
      },
      "execution_count": null,
      "outputs": []
    },
    {
      "cell_type": "code",
      "source": [
        "!cd {JAX_DIR} && python build/build.py --configure_only\n",
        "!cd {JAX_DIR} && {JAX_DIR}/build/bazel-6.1.2-linux-x86_64 --output_base=/content/bazelOut/ coverage --combined_report=lcov  --//jax:build_jaxlib=false //tests:cpu_tests //tests:backend_independent_tests\n"
      ],
      "metadata": {
        "id": "p7WrVG63iDfP"
      },
      "execution_count": null,
      "outputs": []
    },
    {
      "cell_type": "code",
      "source": [
        "import jax\n",
        "jax.print_environment_info(return_string=False)"
      ],
      "metadata": {
        "id": "k23qF2uXrgi4"
      },
      "execution_count": null,
      "outputs": []
    },
    {
      "cell_type": "code",
      "source": [
        "!export XDG_CACHE_HOME=/content/ && cd {JAX_DIR} && {JAX_DIR}/build/bazel-6.1.2-linux-x86_64 help startup_options"
      ],
      "metadata": {
        "id": "lbKC2sTz4Jky"
      },
      "execution_count": null,
      "outputs": []
    }
  ]
}