{
  "nbformat": 4,
  "nbformat_minor": 0,
  "metadata": {
    "colab": {
      "private_outputs": true,
      "provenance": [],
      "authorship_tag": "ABX9TyMZwyntqkwSrg64hroh96n7",
      "include_colab_link": true
    },
    "kernelspec": {
      "name": "python3",
      "display_name": "Python 3"
    },
    "language_info": {
      "name": "python"
    }
  },
  "cells": [
    {
      "cell_type": "markdown",
      "metadata": {
        "id": "view-in-github",
        "colab_type": "text"
      },
      "source": [
        "<a href=\"https://colab.research.google.com/github/afairley/ColaboratoryNotebooks/blob/main/ManagingParametersAndState.ipynb\" target=\"_parent\"><img src=\"https://colab.research.google.com/assets/colab-badge.svg\" alt=\"Open In Colab\"/></a>"
      ]
    },
    {
      "cell_type": "code",
      "execution_count": null,
      "metadata": {
        "id": "QYl1CJOanGDW"
      },
      "outputs": [],
      "source": [
        "import jax\n",
        "from typing import Any, Callable, Sequence\n",
        "from jax import random, numpy as jnp\n",
        "import flax\n",
        "from flax import linen as nn\n",
        "\n",
        "class BiasAdderWithRunningMean(nn.module):\n",
        "  momentum: float = 0.9\n",
        "\n",
        "  @nn.compact\n",
        "  def __call__(self,x):\n",
        "    is_initialized = self.has_variable('batch_stats','mean')\n",
        "    mean = self.variable('batch_stats', 'mean',jnp.zeroes, x.shape([1:]))\n",
        "    bias = self.param('bias', lambda rng, shape: jnp.zeroes(shape),\n",
        "                      x.shape([1:]))\n",
        "    if is_initialized:\n",
        "      mean.value = ((self.momemntum * mean.value) +\n",
        "       (1.0 - self.momentum)  jnp.mean(x, axis=0, keepdims=True))\n",
        "    return mean.value + bias"
      ]
    }
  ]
}