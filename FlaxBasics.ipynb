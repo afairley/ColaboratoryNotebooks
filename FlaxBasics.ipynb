{
  "nbformat": 4,
  "nbformat_minor": 0,
  "metadata": {
    "colab": {
      "provenance": [],
      "authorship_tag": "ABX9TyMmQAfQdEWRLnbmhBGrctrv",
      "include_colab_link": true
    },
    "kernelspec": {
      "name": "python3",
      "display_name": "Python 3"
    },
    "language_info": {
      "name": "python"
    }
  },
  "cells": [
    {
      "cell_type": "markdown",
      "metadata": {
        "id": "view-in-github",
        "colab_type": "text"
      },
      "source": [
        "<a href=\"https://colab.research.google.com/github/afairley/ColaboratoryNotebooks/blob/main/FlaxBasics.ipynb\" target=\"_parent\"><img src=\"https://colab.research.google.com/assets/colab-badge.svg\" alt=\"Open In Colab\"/></a>"
      ]
    },
    {
      "cell_type": "code",
      "execution_count": 1,
      "metadata": {
        "colab": {
          "base_uri": "https://localhost:8080/"
        },
        "id": "il5tqgSIv9vR",
        "outputId": "20a55d75-af14-40d3-f81b-6ad7cc4eb668"
      },
      "outputs": [
        {
          "output_type": "stream",
          "name": "stdout",
          "text": [
            "\u001b[2K     \u001b[90m━━━━━━━━━━━━━━━━━━━━━━━━━━━━━━━━━━━━━━━━\u001b[0m \u001b[32m2.1/2.1 MB\u001b[0m \u001b[31m11.3 MB/s\u001b[0m eta \u001b[36m0:00:00\u001b[0m\n",
            "\u001b[2K     \u001b[90m━━━━━━━━━━━━━━━━━━━━━━━━━━━━━━━━━━━━━━━━\u001b[0m \u001b[32m1.8/1.8 MB\u001b[0m \u001b[31m32.3 MB/s\u001b[0m eta \u001b[36m0:00:00\u001b[0m\n",
            "\u001b[2K     \u001b[90m━━━━━━━━━━━━━━━━━━━━━━━━━━━━━━━━━━━━━━━━\u001b[0m \u001b[32m79.2/79.2 MB\u001b[0m \u001b[31m7.7 MB/s\u001b[0m eta \u001b[36m0:00:00\u001b[0m\n",
            "\u001b[?25h  Installing build dependencies ... \u001b[?25l\u001b[?25hdone\n",
            "  Getting requirements to build wheel ... \u001b[?25l\u001b[?25hdone\n",
            "  Installing backend dependencies ... \u001b[?25l\u001b[?25hdone\n",
            "  Preparing metadata (pyproject.toml) ... \u001b[?25l\u001b[?25hdone\n",
            "  Building wheel for flax (pyproject.toml) ... \u001b[?25l\u001b[?25hdone\n",
            "\u001b[33mWARNING: Running pip as the 'root' user can result in broken permissions and conflicting behaviour with the system package manager. It is recommended to use a virtual environment instead: https://pip.pypa.io/warnings/venv\u001b[0m\u001b[33m\n",
            "\u001b[0m"
          ]
        }
      ],
      "source": [
        "!pip install --upgrade  -q pip jax jaxlib\n",
        "!pip install --upgrade -q git+https://github.com/google/flax.git\n",
        "import jax\n",
        "from typing import Any, Callable, Sequence\n",
        "from jax import random, numpy as jnp\n",
        "import flax\n",
        "from flax import linen as nn"
      ]
    },
    {
      "cell_type": "code",
      "source": [
        "model = nn.Dense(features=5)\n",
        "key1, key2 = random.split(random.key(0))\n",
        "x = random.normal(key1, (10,))\n",
        "params = model.init(key2,x)\n",
        "jax.tree_util.tree_map(lambda x: x.shape,params)\n",
        "model.apply(params,x)\n",
        "\n",
        "n_samples = 20\n",
        "x_dim = 10\n",
        "y_dim = 5\n",
        "\n",
        "nextKey = random.key(0)\n",
        "k1, k2 = random.split(nextKey)\n",
        "W = random.normal(k1, (x_dim, y_dim))\n",
        "b = random.normal(k2,(y_dim,))\n",
        "\n",
        "true_params = flax.core.freeze({'params':{'bias': b, 'kernel': W}})\n",
        "key_sample, key_noise = random.split(k1)\n",
        "x_samples = random.normal(key_sample, (n_samples, x_dim))\n",
        "y_samples = jnp.dot(x_samples,W) + b + 0.1 *\\\n",
        " random.normal(key_noise,(n_samples, y_dim))\n",
        "print('x shape:', x_samples.shape, '; y shape:', y_samples.shape)\n",
        "print('x:', x_samples, '; y:', y_samples)"
      ],
      "metadata": {
        "id": "snFkF1n1wan7"
      },
      "execution_count": null,
      "outputs": []
    },
    {
      "cell_type": "code",
      "source": [
        "@jax.jit\n",
        "def mean_squared_error(params, model, x_batched, y_batched):\n",
        "  def squared_error(x, y):\n",
        "    pred = model.apply(params, x)\n",
        "    return jnp.inner(y-pred, y-pred) / 2.0\n",
        "  return jnp.mean(jax.vmap(squared_error)(x_batched, y_batched), axis=0)"
      ],
      "metadata": {
        "id": "BDtCnavg1oLC"
      },
      "execution_count": 6,
      "outputs": []
    },
    {
      "cell_type": "code",
      "source": [
        "model.apply"
      ],
      "metadata": {
        "colab": {
          "base_uri": "https://localhost:8080/",
          "height": 240
        },
        "id": "w7e1rtau4-BP",
        "outputId": "6e317726-a1c9-499e-a9fb-778c9ab05480"
      },
      "execution_count": 10,
      "outputs": [
        {
          "output_type": "execute_result",
          "data": {
            "text/plain": [
              "<bound method Module.apply of Dense(\n",
              "    # attributes\n",
              "    features = 5\n",
              "    use_bias = True\n",
              "    dtype = None\n",
              "    param_dtype = float32\n",
              "    precision = None\n",
              "    kernel_init = init\n",
              "    bias_init = zeros\n",
              "    dot_general = None\n",
              "    dot_general_cls = None\n",
              ")>"
            ],
            "text/html": [
              "<div style=\"max-width:800px; border: 1px solid var(--colab-border-color);\"><style>\n",
              "      pre.function-repr-contents {\n",
              "        overflow-x: auto;\n",
              "        padding: 8px 12px;\n",
              "        max-height: 500px;\n",
              "      }\n",
              "\n",
              "      pre.function-repr-contents.function-repr-contents-collapsed {\n",
              "        cursor: pointer;\n",
              "        max-height: 100px;\n",
              "      }\n",
              "    </style>\n",
              "    <pre style=\"white-space: initial; background:\n",
              "         var(--colab-secondary-surface-color); padding: 8px 12px;\n",
              "         border-bottom: 1px solid var(--colab-border-color);\"><b>flax.linen.module.Module.apply</b><br/>def apply(variables: VariableDict, *args, rngs: Optional[Union[PRNGKey, RNGSequences]]=None, method: Union[Callable[..., Any], str, None]=None, mutable: CollectionFilter=False, capture_intermediates: Union[bool, Callable[[&#x27;Module&#x27;, str], bool]]=False, **kwargs) -&gt; Union[Any, Tuple[Any, Union[FrozenVariableDict, Dict[str, Any]]]]</pre><pre class=\"function-repr-contents function-repr-contents-collapsed\" style=\"\"><a class=\"filepath\" style=\"display:none\" href=\"#\">/usr/local/lib/python3.10/dist-packages/flax/linen/module.py</a>Applies a module method to variables and returns output and modified variables.\n",
              "\n",
              "Note that ``method`` should be set if one would like to call ``apply`` on a\n",
              "different class method than ``__call__``. For instance, suppose a\n",
              "Transformer modules has a method called ``encode``, then the following calls\n",
              "``apply`` on that method::\n",
              "\n",
              "  &gt;&gt;&gt; import flax.linen as nn\n",
              "  &gt;&gt;&gt; import jax, jax.numpy as jnp\n",
              "  &gt;&gt;&gt; import numpy as np\n",
              "\n",
              "  &gt;&gt;&gt; class Transformer(nn.Module):\n",
              "  ...   def encode(self, x):\n",
              "  ...     ...\n",
              "\n",
              "  &gt;&gt;&gt; x = jnp.ones((16, 9))\n",
              "  &gt;&gt;&gt; model = Transformer()\n",
              "  &gt;&gt;&gt; variables = model.init(jax.random.key(0), x, method=Transformer.encode)\n",
              "\n",
              "  &gt;&gt;&gt; encoded = model.apply(variables, x, method=Transformer.encode)\n",
              "\n",
              "If a function instance is provided, the unbound function is used. For\n",
              "instance, the example below is equivalent to the one above::\n",
              "\n",
              "  &gt;&gt;&gt; encoded = model.apply(variables, x, method=model.encode)\n",
              "\n",
              "You can also pass a string to a callable attribute of the module. For\n",
              "example, the previous can be written as::\n",
              "\n",
              "  &gt;&gt;&gt; encoded = model.apply(variables, x, method=&#x27;encode&#x27;)\n",
              "\n",
              "Note ``method`` can also be a function that is not defined in\n",
              "``Transformer``. In that case, the function should have at least one\n",
              "argument representing an instance of the Module class::\n",
              "\n",
              "  &gt;&gt;&gt; def other_fn(instance, x):\n",
              "  ...   # instance.some_module_attr(...)\n",
              "  ...   instance.encode\n",
              "  ...   ...\n",
              "\n",
              "  &gt;&gt;&gt; model.apply(variables, x, method=other_fn)\n",
              "\n",
              "If you pass a single ``PRNGKey``, Flax will use it to feed the ``&#x27;params&#x27;``\n",
              "RNG stream.  If you want to use a different RNG stream or need to use\n",
              "multiple streams, you can pass a dictionary mapping each RNG stream name\n",
              "to its corresponding ``PRNGKey`` to ``apply``. If ``self.make_rng(name)``\n",
              "is called on an RNG stream name that isn&#x27;t passed by the user, it will\n",
              "default to using the ``&#x27;params&#x27;`` RNG stream.\n",
              "\n",
              "Example::\n",
              "\n",
              "  &gt;&gt;&gt; class Foo(nn.Module):\n",
              "  ...   @nn.compact\n",
              "  ...   def __call__(self, x, add_noise=False):\n",
              "  ...     x = nn.Dense(16)(x)\n",
              "  ...     x = nn.relu(x)\n",
              "  ...\n",
              "  ...     if add_noise:\n",
              "  ...       # Add gaussian noise\n",
              "  ...       noise_key = self.make_rng(&#x27;noise&#x27;)\n",
              "  ...       x = x + jax.random.normal(noise_key, x.shape)\n",
              "  ...\n",
              "  ...     return nn.Dense(1)(x)\n",
              "\n",
              "  &gt;&gt;&gt; x = jnp.empty((1, 7))\n",
              "  &gt;&gt;&gt; module = Foo()\n",
              "  &gt;&gt;&gt; rngs = {&#x27;params&#x27;: jax.random.key(0), &#x27;noise&#x27;: jax.random.key(1)}\n",
              "  &gt;&gt;&gt; variables = module.init(rngs, x)\n",
              "  &gt;&gt;&gt; out0 = module.apply(variables, x, add_noise=True, rngs=rngs)\n",
              "\n",
              "  &gt;&gt;&gt; rngs[&#x27;noise&#x27;] = jax.random.key(0)\n",
              "  &gt;&gt;&gt; out1 = module.apply(variables, x, add_noise=True, rngs=rngs)\n",
              "  &gt;&gt;&gt; # different output (key(1) vs key(0))\n",
              "  &gt;&gt;&gt; np.testing.assert_raises(AssertionError, np.testing.assert_allclose, out0, out1)\n",
              "\n",
              "  &gt;&gt;&gt; del rngs[&#x27;noise&#x27;]\n",
              "  &gt;&gt;&gt; # self.make_rng(&#x27;noise&#x27;) will default to using the &#x27;params&#x27; RNG stream\n",
              "  &gt;&gt;&gt; out2 = module.apply(variables, x, add_noise=True, rngs=rngs)\n",
              "  &gt;&gt;&gt; # same output (key(0))\n",
              "  &gt;&gt;&gt; np.testing.assert_allclose(out1, out2)\n",
              "\n",
              "  &gt;&gt;&gt; # passing in a single key is equivalent to passing in {&#x27;params&#x27;: key}\n",
              "  &gt;&gt;&gt; out3 = module.apply(variables, x, add_noise=True, rngs=jax.random.key(0))\n",
              "  &gt;&gt;&gt; # same output (key(0))\n",
              "  &gt;&gt;&gt; np.testing.assert_allclose(out2, out3)\n",
              "\n",
              "Args:\n",
              "  variables: A dictionary containing variables keyed by variable\n",
              "    collections. See :mod:`flax.core.variables` for more details about\n",
              "    variables.\n",
              "  *args: Named arguments passed to the specified apply method.\n",
              "  rngs: a dict of PRNGKeys to initialize the PRNG sequences. The &quot;params&quot;\n",
              "    PRNG sequence is used to initialize parameters.\n",
              "  method: A function to call apply on. This is generally a function in the\n",
              "    module. If provided, applies this method. If not provided, applies the\n",
              "    ``__call__`` method of the module. A string can also be provided to\n",
              "    specify a method by name.\n",
              "  mutable: Can be bool, str, or list. Specifies which collections should be\n",
              "    treated as mutable: ``bool``: all/no collections are mutable. ``str``:\n",
              "    The name of a single mutable collection. ``list``: A list of names of\n",
              "    mutable collections.\n",
              "  capture_intermediates: If ``True``, captures intermediate return values of\n",
              "    all Modules inside the &quot;intermediates&quot; collection. By default, only the\n",
              "    return values of all ``__call__`` methods are stored. A function can be\n",
              "    passed to change the filter behavior. The filter function takes the\n",
              "    Module instance and method name and returns a bool indicating whether\n",
              "    the output of that method invocation should be stored.\n",
              "  **kwargs: Keyword arguments passed to the specified apply method.\n",
              "\n",
              "Returns:\n",
              "  If ``mutable`` is False, returns output. If any collections are\n",
              "  mutable, returns ``(output, vars)``, where ``vars`` are is a dict\n",
              "  of the modified collections.</pre>\n",
              "      <script>\n",
              "      if (google.colab.kernel.accessAllowed && google.colab.files && google.colab.files.view) {\n",
              "        for (const element of document.querySelectorAll('.filepath')) {\n",
              "          element.style.display = 'block'\n",
              "          element.onclick = (event) => {\n",
              "            event.preventDefault();\n",
              "            event.stopPropagation();\n",
              "            google.colab.files.view(element.textContent, 2066);\n",
              "          };\n",
              "        }\n",
              "      }\n",
              "      for (const element of document.querySelectorAll('.function-repr-contents')) {\n",
              "        element.onclick = (event) => {\n",
              "          event.preventDefault();\n",
              "          event.stopPropagation();\n",
              "          element.classList.toggle('function-repr-contents-collapsed');\n",
              "        };\n",
              "      }\n",
              "      </script>\n",
              "      </div>"
            ]
          },
          "metadata": {},
          "execution_count": 10
        }
      ]
    },
    {
      "cell_type": "code",
      "source": [
        "learning_rate = 0.3\n",
        "print('Loss for \"true\" W, b : ', mean_squared_error(true_params, model, x_samples, y_samples))\n",
        "loss_grad_fn = jax.value_and_grad(mean_squared_error)\n",
        "\n",
        "@jax.jit\n",
        "def update_params(params, learning_rate, grads):\n",
        "  params = jax.tree_util.tree_map(\n",
        "      lambda p, g: p - learning_rate * g, params, grads)\n",
        "  return params\n",
        "\n",
        "for i in range(101):\n",
        "  loss_val, grads = loss_grad_fn(params, x_samples, y_samples)\n",
        "  params = update_params(params, learning_rate, grads)\n",
        "  if i % 10 == 0:\n",
        "    print(f'Loss step {i}:', loss_val)"
      ],
      "metadata": {
        "colab": {
          "base_uri": "https://localhost:8080/",
          "height": 478
        },
        "id": "y_69ovfG2y5s",
        "outputId": "439b6a7e-112a-44a7-e93f-417892efe9cc"
      },
      "execution_count": 11,
      "outputs": [
        {
          "output_type": "error",
          "ename": "AttributeError",
          "evalue": "DynamicJaxprTracer has no attribute apply",
          "traceback": [
            "\u001b[0;31m---------------------------------------------------------------------------\u001b[0m",
            "\u001b[0;31mAttributeError\u001b[0m                            Traceback (most recent call last)",
            "\u001b[0;32m/usr/local/lib/python3.10/dist-packages/jax/_src/core.py\u001b[0m in \u001b[0;36m__getattr__\u001b[0;34m(self, name)\u001b[0m\n\u001b[1;32m    788\u001b[0m     \u001b[0;32mtry\u001b[0m\u001b[0;34m:\u001b[0m\u001b[0;34m\u001b[0m\u001b[0;34m\u001b[0m\u001b[0m\n\u001b[0;32m--> 789\u001b[0;31m       \u001b[0mattr\u001b[0m \u001b[0;34m=\u001b[0m \u001b[0mgetattr\u001b[0m\u001b[0;34m(\u001b[0m\u001b[0mself\u001b[0m\u001b[0;34m.\u001b[0m\u001b[0maval\u001b[0m\u001b[0;34m,\u001b[0m \u001b[0mname\u001b[0m\u001b[0;34m)\u001b[0m\u001b[0;34m\u001b[0m\u001b[0;34m\u001b[0m\u001b[0m\n\u001b[0m\u001b[1;32m    790\u001b[0m     \u001b[0;32mexcept\u001b[0m \u001b[0mAttributeError\u001b[0m \u001b[0;32mas\u001b[0m \u001b[0merr\u001b[0m\u001b[0;34m:\u001b[0m\u001b[0;34m\u001b[0m\u001b[0;34m\u001b[0m\u001b[0m\n",
            "\u001b[0;31mAttributeError\u001b[0m: 'ShapedArray' object has no attribute 'apply'",
            "\nThe above exception was the direct cause of the following exception:\n",
            "\u001b[0;31mAttributeError\u001b[0m                            Traceback (most recent call last)",
            "\u001b[0;32m<ipython-input-11-c4e9e7c51743>\u001b[0m in \u001b[0;36m<cell line: 2>\u001b[0;34m()\u001b[0m\n\u001b[1;32m      1\u001b[0m \u001b[0mlearning_rate\u001b[0m \u001b[0;34m=\u001b[0m \u001b[0;36m0.3\u001b[0m\u001b[0;34m\u001b[0m\u001b[0;34m\u001b[0m\u001b[0m\n\u001b[0;32m----> 2\u001b[0;31m \u001b[0mprint\u001b[0m\u001b[0;34m(\u001b[0m\u001b[0;34m'Loss for \"true\" W, b : '\u001b[0m\u001b[0;34m,\u001b[0m \u001b[0mmean_squared_error\u001b[0m\u001b[0;34m(\u001b[0m\u001b[0mtrue_params\u001b[0m\u001b[0;34m,\u001b[0m \u001b[0mmodel\u001b[0m\u001b[0;34m,\u001b[0m \u001b[0mx_samples\u001b[0m\u001b[0;34m,\u001b[0m \u001b[0my_samples\u001b[0m\u001b[0;34m)\u001b[0m\u001b[0;34m)\u001b[0m\u001b[0;34m\u001b[0m\u001b[0;34m\u001b[0m\u001b[0m\n\u001b[0m\u001b[1;32m      3\u001b[0m \u001b[0mloss_grad_fn\u001b[0m \u001b[0;34m=\u001b[0m \u001b[0mjax\u001b[0m\u001b[0;34m.\u001b[0m\u001b[0mvalue_and_grad\u001b[0m\u001b[0;34m(\u001b[0m\u001b[0mmean_squared_error\u001b[0m\u001b[0;34m)\u001b[0m\u001b[0;34m\u001b[0m\u001b[0;34m\u001b[0m\u001b[0m\n\u001b[1;32m      4\u001b[0m \u001b[0;34m\u001b[0m\u001b[0m\n\u001b[1;32m      5\u001b[0m \u001b[0;34m@\u001b[0m\u001b[0mjax\u001b[0m\u001b[0;34m.\u001b[0m\u001b[0mjit\u001b[0m\u001b[0;34m\u001b[0m\u001b[0;34m\u001b[0m\u001b[0m\n",
            "    \u001b[0;31m[... skipping hidden 12 frame]\u001b[0m\n",
            "\u001b[0;32m<ipython-input-6-a61a8bf4e2b8>\u001b[0m in \u001b[0;36mmean_squared_error\u001b[0;34m(params, model, x_batched, y_batched)\u001b[0m\n\u001b[1;32m      4\u001b[0m     \u001b[0mpred\u001b[0m \u001b[0;34m=\u001b[0m \u001b[0mmodel\u001b[0m\u001b[0;34m.\u001b[0m\u001b[0mapply\u001b[0m\u001b[0;34m(\u001b[0m\u001b[0mparams\u001b[0m\u001b[0;34m,\u001b[0m \u001b[0mx\u001b[0m\u001b[0;34m)\u001b[0m\u001b[0;34m\u001b[0m\u001b[0;34m\u001b[0m\u001b[0m\n\u001b[1;32m      5\u001b[0m     \u001b[0;32mreturn\u001b[0m \u001b[0mjnp\u001b[0m\u001b[0;34m.\u001b[0m\u001b[0minner\u001b[0m\u001b[0;34m(\u001b[0m\u001b[0my\u001b[0m\u001b[0;34m-\u001b[0m\u001b[0mpred\u001b[0m\u001b[0;34m,\u001b[0m \u001b[0my\u001b[0m\u001b[0;34m-\u001b[0m\u001b[0mpred\u001b[0m\u001b[0;34m)\u001b[0m \u001b[0;34m/\u001b[0m \u001b[0;36m2.0\u001b[0m\u001b[0;34m\u001b[0m\u001b[0;34m\u001b[0m\u001b[0m\n\u001b[0;32m----> 6\u001b[0;31m   \u001b[0;32mreturn\u001b[0m \u001b[0mjnp\u001b[0m\u001b[0;34m.\u001b[0m\u001b[0mmean\u001b[0m\u001b[0;34m(\u001b[0m\u001b[0mjax\u001b[0m\u001b[0;34m.\u001b[0m\u001b[0mvmap\u001b[0m\u001b[0;34m(\u001b[0m\u001b[0msquared_error\u001b[0m\u001b[0;34m)\u001b[0m\u001b[0;34m(\u001b[0m\u001b[0mx_batched\u001b[0m\u001b[0;34m,\u001b[0m \u001b[0my_batched\u001b[0m\u001b[0;34m)\u001b[0m\u001b[0;34m,\u001b[0m \u001b[0maxis\u001b[0m\u001b[0;34m=\u001b[0m\u001b[0;36m0\u001b[0m\u001b[0;34m)\u001b[0m\u001b[0;34m\u001b[0m\u001b[0;34m\u001b[0m\u001b[0m\n\u001b[0m",
            "    \u001b[0;31m[... skipping hidden 3 frame]\u001b[0m\n",
            "\u001b[0;32m<ipython-input-6-a61a8bf4e2b8>\u001b[0m in \u001b[0;36msquared_error\u001b[0;34m(x, y)\u001b[0m\n\u001b[1;32m      2\u001b[0m \u001b[0;32mdef\u001b[0m \u001b[0mmean_squared_error\u001b[0m\u001b[0;34m(\u001b[0m\u001b[0mparams\u001b[0m\u001b[0;34m,\u001b[0m \u001b[0mmodel\u001b[0m\u001b[0;34m,\u001b[0m \u001b[0mx_batched\u001b[0m\u001b[0;34m,\u001b[0m \u001b[0my_batched\u001b[0m\u001b[0;34m)\u001b[0m\u001b[0;34m:\u001b[0m\u001b[0;34m\u001b[0m\u001b[0;34m\u001b[0m\u001b[0m\n\u001b[1;32m      3\u001b[0m   \u001b[0;32mdef\u001b[0m \u001b[0msquared_error\u001b[0m\u001b[0;34m(\u001b[0m\u001b[0mx\u001b[0m\u001b[0;34m,\u001b[0m \u001b[0my\u001b[0m\u001b[0;34m)\u001b[0m\u001b[0;34m:\u001b[0m\u001b[0;34m\u001b[0m\u001b[0;34m\u001b[0m\u001b[0m\n\u001b[0;32m----> 4\u001b[0;31m     \u001b[0mpred\u001b[0m \u001b[0;34m=\u001b[0m \u001b[0mmodel\u001b[0m\u001b[0;34m.\u001b[0m\u001b[0mapply\u001b[0m\u001b[0;34m(\u001b[0m\u001b[0mparams\u001b[0m\u001b[0;34m,\u001b[0m \u001b[0mx\u001b[0m\u001b[0;34m)\u001b[0m\u001b[0;34m\u001b[0m\u001b[0;34m\u001b[0m\u001b[0m\n\u001b[0m\u001b[1;32m      5\u001b[0m     \u001b[0;32mreturn\u001b[0m \u001b[0mjnp\u001b[0m\u001b[0;34m.\u001b[0m\u001b[0minner\u001b[0m\u001b[0;34m(\u001b[0m\u001b[0my\u001b[0m\u001b[0;34m-\u001b[0m\u001b[0mpred\u001b[0m\u001b[0;34m,\u001b[0m \u001b[0my\u001b[0m\u001b[0;34m-\u001b[0m\u001b[0mpred\u001b[0m\u001b[0;34m)\u001b[0m \u001b[0;34m/\u001b[0m \u001b[0;36m2.0\u001b[0m\u001b[0;34m\u001b[0m\u001b[0;34m\u001b[0m\u001b[0m\n\u001b[1;32m      6\u001b[0m   \u001b[0;32mreturn\u001b[0m \u001b[0mjnp\u001b[0m\u001b[0;34m.\u001b[0m\u001b[0mmean\u001b[0m\u001b[0;34m(\u001b[0m\u001b[0mjax\u001b[0m\u001b[0;34m.\u001b[0m\u001b[0mvmap\u001b[0m\u001b[0;34m(\u001b[0m\u001b[0msquared_error\u001b[0m\u001b[0;34m)\u001b[0m\u001b[0;34m(\u001b[0m\u001b[0mx_batched\u001b[0m\u001b[0;34m,\u001b[0m \u001b[0my_batched\u001b[0m\u001b[0;34m)\u001b[0m\u001b[0;34m,\u001b[0m \u001b[0maxis\u001b[0m\u001b[0;34m=\u001b[0m\u001b[0;36m0\u001b[0m\u001b[0;34m)\u001b[0m\u001b[0;34m\u001b[0m\u001b[0;34m\u001b[0m\u001b[0m\n",
            "\u001b[0;32m/usr/local/lib/python3.10/dist-packages/jax/_src/core.py\u001b[0m in \u001b[0;36m__getattr__\u001b[0;34m(self, name)\u001b[0m\n\u001b[1;32m    789\u001b[0m       \u001b[0mattr\u001b[0m \u001b[0;34m=\u001b[0m \u001b[0mgetattr\u001b[0m\u001b[0;34m(\u001b[0m\u001b[0mself\u001b[0m\u001b[0;34m.\u001b[0m\u001b[0maval\u001b[0m\u001b[0;34m,\u001b[0m \u001b[0mname\u001b[0m\u001b[0;34m)\u001b[0m\u001b[0;34m\u001b[0m\u001b[0;34m\u001b[0m\u001b[0m\n\u001b[1;32m    790\u001b[0m     \u001b[0;32mexcept\u001b[0m \u001b[0mAttributeError\u001b[0m \u001b[0;32mas\u001b[0m \u001b[0merr\u001b[0m\u001b[0;34m:\u001b[0m\u001b[0;34m\u001b[0m\u001b[0;34m\u001b[0m\u001b[0m\n\u001b[0;32m--> 791\u001b[0;31m       raise AttributeError(\n\u001b[0m\u001b[1;32m    792\u001b[0m           \u001b[0;34mf\"{self.__class__.__name__} has no attribute {name}\"\u001b[0m\u001b[0;34m\u001b[0m\u001b[0;34m\u001b[0m\u001b[0m\n\u001b[1;32m    793\u001b[0m       ) from err\n",
            "\u001b[0;31mAttributeError\u001b[0m: DynamicJaxprTracer has no attribute apply"
          ]
        }
      ]
    }
  ]
}