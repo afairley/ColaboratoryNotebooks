{
  "nbformat": 4,
  "nbformat_minor": 0,
  "metadata": {
    "colab": {
      "private_outputs": true,
      "provenance": [],
      "authorship_tag": "ABX9TyOsNjnNp25m8m4tTFiiXRAb",
      "include_colab_link": true
    },
    "kernelspec": {
      "name": "python3",
      "display_name": "Python 3"
    },
    "language_info": {
      "name": "python"
    }
  },
  "cells": [
    {
      "cell_type": "markdown",
      "metadata": {
        "id": "view-in-github",
        "colab_type": "text"
      },
      "source": [
        "<a href=\"https://colab.research.google.com/github/afairley/ColaboratoryNotebooks/blob/main/JaxFlaxAndOptaxCodeBrowser.ipynb\" target=\"_parent\"><img src=\"https://colab.research.google.com/assets/colab-badge.svg\" alt=\"Open In Colab\"/></a>"
      ]
    },
    {
      "cell_type": "code",
      "execution_count": null,
      "metadata": {
        "id": "pPPZAcblK2gw"
      },
      "outputs": [],
      "source": [
        "!rm -rf ./jax\n",
        "!rm -rf ./optax\n",
        "!rm -rf ./flax\n",
        "!git clone https://github.com/google/jax\n",
        "!git clone https://github.com/google-deepmind/optax\n",
        "!git clone https://github.com/google/flax\n",
        "!pip3 install ./jax\n",
        "!pip3 install ./optax\n",
        "!pip3 install ./flax\n",
        "import jax, flax, optax"
      ]
    }
  ]
}