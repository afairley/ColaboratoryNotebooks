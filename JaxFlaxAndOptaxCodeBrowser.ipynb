{
  "nbformat": 4,
  "nbformat_minor": 0,
  "metadata": {
    "colab": {
      "private_outputs": true,
      "provenance": [],
      "include_colab_link": true
    },
    "kernelspec": {
      "name": "python3",
      "display_name": "Python 3"
    },
    "language_info": {
      "name": "python"
    }
  },
  "cells": [
    {
      "cell_type": "markdown",
      "metadata": {
        "id": "view-in-github",
        "colab_type": "text"
      },
      "source": [
        "<a href=\"https://colab.research.google.com/github/afairley/ColaboratoryNotebooks/blob/main/JaxFlaxAndOptaxCodeBrowser.ipynb\" target=\"_parent\"><img src=\"https://colab.research.google.com/assets/colab-badge.svg\" alt=\"Open In Colab\"/></a>"
      ]
    },
    {
      "cell_type": "code",
      "execution_count": null,
      "metadata": {
        "id": "pPPZAcblK2gw"
      },
      "outputs": [],
      "source": [
        "for project , repo in [\n",
        "    (\"jax\",\"https://github.com/google/jax\"),\n",
        "     (\"optax\",\"https://github.com/google-deepmind/optax\"),\n",
        "    (\"chex\",\"https://github.com/google-deepmind/chex\"),\n",
        "    (\"flax\",\"https://github.com/google/flax\"),\n",
        "  ]:\n",
        "  !rm -rf ./{project}\n",
        "  !git clone {repo}\n",
        "  !pip3 install ./{project}\n",
        "\n",
        "import jax, optax, chex, flax\n",
        "#https://jax.readthedocs.io/en/latest/_modules/jax/_src/api.html#vmap"
      ]
    }
  ]
}