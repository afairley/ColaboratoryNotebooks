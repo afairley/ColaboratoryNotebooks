{
  "nbformat": 4,
  "nbformat_minor": 0,
  "metadata": {
    "colab": {
      "provenance": [],
      "authorship_tag": "ABX9TyPJgUaugU/Qc+P30iXZV0H1",
      "include_colab_link": true
    },
    "kernelspec": {
      "name": "python3",
      "display_name": "Python 3"
    },
    "language_info": {
      "name": "python"
    }
  },
  "cells": [
    {
      "cell_type": "markdown",
      "metadata": {
        "id": "view-in-github",
        "colab_type": "text"
      },
      "source": [
        "<a href=\"https://colab.research.google.com/github/afairley/ColaboratoryNotebooks/blob/main/Jax101.ipynb\" target=\"_parent\"><img src=\"https://colab.research.google.com/assets/colab-badge.svg\" alt=\"Open In Colab\"/></a>"
      ]
    },
    {
      "cell_type": "code",
      "execution_count": 2,
      "metadata": {
        "colab": {
          "base_uri": "https://localhost:8080/"
        },
        "id": "fdUdgVkr3Zg0",
        "outputId": "53ae88c6-ef75-434c-ac03-a302268ccd30"
      },
      "outputs": [
        {
          "output_type": "stream",
          "name": "stdout",
          "text": [
            "[0 1 2 3 4 5 6 7 8 9]\n"
          ]
        }
      ],
      "source": [
        "import jax\n",
        "import jax.numpy as jnp\n",
        "\n",
        "x = jnp.arange(10)\n",
        "print(x)"
      ]
    },
    {
      "cell_type": "code",
      "source": [
        "x"
      ],
      "metadata": {
        "colab": {
          "base_uri": "https://localhost:8080/"
        },
        "id": "zsNO5TfW3sjm",
        "outputId": "a97b3403-9c53-4c30-e6cb-f360593e8aec"
      },
      "execution_count": 3,
      "outputs": [
        {
          "output_type": "execute_result",
          "data": {
            "text/plain": [
              "Array([0, 1, 2, 3, 4, 5, 6, 7, 8, 9], dtype=int32)"
            ]
          },
          "metadata": {},
          "execution_count": 3
        }
      ]
    },
    {
      "cell_type": "code",
      "source": [
        "long_vector = jnp.arange(int(1e7))\n",
        "%timeit jnp.dot(long_vector, long_vector).block_until_ready()"
      ],
      "metadata": {
        "colab": {
          "base_uri": "https://localhost:8080/"
        },
        "id": "Vqu_oAXh31VR",
        "outputId": "88ddf016-257e-421d-bb58-f87a33cc8e0e"
      },
      "execution_count": 5,
      "outputs": [
        {
          "output_type": "stream",
          "name": "stdout",
          "text": [
            "8.65 ms ± 528 µs per loop (mean ± std. dev. of 7 runs, 100 loops each)\n"
          ]
        }
      ]
    },
    {
      "cell_type": "code",
      "source": [
        "def sum_of_squares(x):\n",
        "  return jnp.sum(x**2)\n",
        "sum_of_squares_dx = jax.grad(sum_of_squares)\n",
        "x = jnp.asarray([1.0, 2.0, 3.0, 4.0])\n",
        "print(sum_of_squares(x))\n",
        "print(sum_of_squares_dx(x))\n",
        ""
      ],
      "metadata": {
        "colab": {
          "base_uri": "https://localhost:8080/"
        },
        "id": "dtMBakAv4ULC",
        "outputId": "822c9497-2815-4e92-89e9-bef8fb9402db"
      },
      "execution_count": 6,
      "outputs": [
        {
          "output_type": "stream",
          "name": "stdout",
          "text": [
            "30.0\n",
            "[2. 4. 6. 8.]\n"
          ]
        }
      ]
    },
    {
      "cell_type": "code",
      "source": [
        "def sum_squared_error(x, y):\n",
        "  return jnp.sum((x-y)**2)\n",
        "\n",
        "sum_squared_error_dx = jax.grad(sum_squared_error)\n",
        "y = jnp.asarray([1.1, 2.1, 3.1, 4.1])\n",
        "print(sum_squared_error_dx(x,y))"
      ],
      "metadata": {
        "colab": {
          "base_uri": "https://localhost:8080/"
        },
        "id": "UkmKeMMQ5QU2",
        "outputId": "d64dc652-8b9c-48ef-c5c9-9769f6caf963"
      },
      "execution_count": 7,
      "outputs": [
        {
          "output_type": "stream",
          "name": "stdout",
          "text": [
            "[-0.20000005 -0.19999981 -0.19999981 -0.19999981]\n"
          ]
        }
      ]
    },
    {
      "cell_type": "code",
      "source": [
        "jax.value_and_grad(sum_squared_error)(x, y)"
      ],
      "metadata": {
        "colab": {
          "base_uri": "https://localhost:8080/"
        },
        "id": "OxrX8cFH69B2",
        "outputId": "613a274c-113e-4e8c-b83d-e5bf54cbaf83"
      },
      "execution_count": 8,
      "outputs": [
        {
          "output_type": "execute_result",
          "data": {
            "text/plain": [
              "(Array(0.03999995, dtype=float32),\n",
              " Array([-0.20000005, -0.19999981, -0.19999981, -0.19999981], dtype=float32))"
            ]
          },
          "metadata": {},
          "execution_count": 8
        }
      ]
    },
    {
      "cell_type": "code",
      "source": [
        "def squared_error_with_aux(x, y):\n",
        "  return sum_squared_error(x, y), x-y\n",
        "\n",
        "jax.grad(squared_error_with_aux, has_aux=True)(x,y)"
      ],
      "metadata": {
        "colab": {
          "base_uri": "https://localhost:8080/"
        },
        "id": "no04FLcm7SNK",
        "outputId": "2dbd50a0-3f1e-40ae-df74-606a44535f2e"
      },
      "execution_count": 10,
      "outputs": [
        {
          "output_type": "execute_result",
          "data": {
            "text/plain": [
              "(Array([-0.20000005, -0.19999981, -0.19999981, -0.19999981], dtype=float32),\n",
              " Array([-0.10000002, -0.0999999 , -0.0999999 , -0.0999999 ], dtype=float32))"
            ]
          },
          "metadata": {},
          "execution_count": 10
        }
      ]
    },
    {
      "cell_type": "code",
      "source": [
        "import numpy as np\n",
        "import matplotlib.pyplot as plt\n",
        "\n",
        "xs = np.random.normal(size=(100,))\n",
        "noise = np.random.normal(scale=0.1, size=(100,))\n",
        "ys = (xs * 3) - 1 +  5 * noise\n",
        "plt.scatter(xs,ys)\n"
      ],
      "metadata": {
        "colab": {
          "base_uri": "https://localhost:8080/",
          "height": 448
        },
        "id": "jlRusArl9XFV",
        "outputId": "dbd676c0-9ac9-439f-83b0-b2bcd9b7c054"
      },
      "execution_count": 12,
      "outputs": [
        {
          "output_type": "execute_result",
          "data": {
            "text/plain": [
              "<matplotlib.collections.PathCollection at 0x7a881a2ece20>"
            ]
          },
          "metadata": {},
          "execution_count": 12
        },
        {
          "output_type": "display_data",
          "data": {
            "text/plain": [
              "<Figure size 640x480 with 1 Axes>"
            ],
            "image/png": "[encoded data removed]"
          },
          "metadata": {}
        }
      ]
    }
  ]
}